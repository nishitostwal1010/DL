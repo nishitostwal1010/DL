{
  "nbformat": 4,
  "nbformat_minor": 0,
  "metadata": {
    "colab": {
      "provenance": []
    },
    "kernelspec": {
      "name": "python3",
      "display_name": "Python 3"
    },
    "language_info": {
      "name": "python"
    }
  },
  "cells": [
    {
      "cell_type": "markdown",
      "source": [
        "### Manually setting weights with varience of 1/n, where n is number of neurons in previous layer."
      ],
      "metadata": {
        "id": "8d0OvPTy68db"
      }
    },
    {
      "cell_type": "code",
      "execution_count": null,
      "metadata": {
        "id": "a0yaGvZVuUy-"
      },
      "outputs": [],
      "source": [
        "import numpy as np\n",
        "import pandas as pd\n",
        "import matplotlib.pyplot as plt\n",
        "import tensorflow\n",
        "from tensorflow import keras\n",
        "from tensorflow.keras.models import Sequential\n",
        "from tensorflow.keras.layers import Dense\n",
        "from sklearn.model_selection import train_test_split\n",
        "from mlxtend.plotting import plot_decision_regions"
      ]
    },
    {
      "cell_type": "code",
      "source": [
        "df = pd.read_csv(\"/content/drive/MyDrive/datasets/ushape.csv\")"
      ],
      "metadata": {
        "id": "k5X5NGnJz145"
      },
      "execution_count": null,
      "outputs": []
    },
    {
      "cell_type": "code",
      "source": [
        "df.head()"
      ],
      "metadata": {
        "colab": {
          "base_uri": "https://localhost:8080/",
          "height": 206
        },
        "id": "0gdrZtiv0Hat",
        "outputId": "39fffc13-079d-4c75-8d62-8b30b46a18b5"
      },
      "execution_count": null,
      "outputs": [
        {
          "output_type": "execute_result",
          "data": {
            "text/plain": [
              "   3.159499363321345566e-02  9.869877579082642072e-01  \\\n",
              "0                  2.115098                 -0.046244   \n",
              "1                  0.882490                 -0.075756   \n",
              "2                 -0.055144                 -0.037332   \n",
              "3                  0.829545                 -0.539321   \n",
              "4                  2.112857                  0.662084   \n",
              "\n",
              "   0.000000000000000000e+00  \n",
              "0                       1.0  \n",
              "1                       0.0  \n",
              "2                       1.0  \n",
              "3                       1.0  \n",
              "4                       1.0  "
            ],
            "text/html": [
              "\n",
              "  <div id=\"df-5e80ba01-c4c9-403e-8a6e-6c6ccc8098bd\" class=\"colab-df-container\">\n",
              "    <div>\n",
              "<style scoped>\n",
              "    .dataframe tbody tr th:only-of-type {\n",
              "        vertical-align: middle;\n",
              "    }\n",
              "\n",
              "    .dataframe tbody tr th {\n",
              "        vertical-align: top;\n",
              "    }\n",
              "\n",
              "    .dataframe thead th {\n",
              "        text-align: right;\n",
              "    }\n",
              "</style>\n",
              "<table border=\"1\" class=\"dataframe\">\n",
              "  <thead>\n",
              "    <tr style=\"text-align: right;\">\n",
              "      <th></th>\n",
              "      <th>3.159499363321345566e-02</th>\n",
              "      <th>9.869877579082642072e-01</th>\n",
              "      <th>0.000000000000000000e+00</th>\n",
              "    </tr>\n",
              "  </thead>\n",
              "  <tbody>\n",
              "    <tr>\n",
              "      <th>0</th>\n",
              "      <td>2.115098</td>\n",
              "      <td>-0.046244</td>\n",
              "      <td>1.0</td>\n",
              "    </tr>\n",
              "    <tr>\n",
              "      <th>1</th>\n",
              "      <td>0.882490</td>\n",
              "      <td>-0.075756</td>\n",
              "      <td>0.0</td>\n",
              "    </tr>\n",
              "    <tr>\n",
              "      <th>2</th>\n",
              "      <td>-0.055144</td>\n",
              "      <td>-0.037332</td>\n",
              "      <td>1.0</td>\n",
              "    </tr>\n",
              "    <tr>\n",
              "      <th>3</th>\n",
              "      <td>0.829545</td>\n",
              "      <td>-0.539321</td>\n",
              "      <td>1.0</td>\n",
              "    </tr>\n",
              "    <tr>\n",
              "      <th>4</th>\n",
              "      <td>2.112857</td>\n",
              "      <td>0.662084</td>\n",
              "      <td>1.0</td>\n",
              "    </tr>\n",
              "  </tbody>\n",
              "</table>\n",
              "</div>\n",
              "    <div class=\"colab-df-buttons\">\n",
              "\n",
              "  <div class=\"colab-df-container\">\n",
              "    <button class=\"colab-df-convert\" onclick=\"convertToInteractive('df-5e80ba01-c4c9-403e-8a6e-6c6ccc8098bd')\"\n",
              "            title=\"Convert this dataframe to an interactive table.\"\n",
              "            style=\"display:none;\">\n",
              "\n",
              "  <svg xmlns=\"http://www.w3.org/2000/svg\" height=\"24px\" viewBox=\"0 -960 960 960\">\n",
              "    <path d=\"M120-120v-720h720v720H120Zm60-500h600v-160H180v160Zm220 220h160v-160H400v160Zm0 220h160v-160H400v160ZM180-400h160v-160H180v160Zm440 0h160v-160H620v160ZM180-180h160v-160H180v160Zm440 0h160v-160H620v160Z\"/>\n",
              "  </svg>\n",
              "    </button>\n",
              "\n",
              "  <style>\n",
              "    .colab-df-container {\n",
              "      display:flex;\n",
              "      gap: 12px;\n",
              "    }\n",
              "\n",
              "    .colab-df-convert {\n",
              "      background-color: #E8F0FE;\n",
              "      border: none;\n",
              "      border-radius: 50%;\n",
              "      cursor: pointer;\n",
              "      display: none;\n",
              "      fill: #1967D2;\n",
              "      height: 32px;\n",
              "      padding: 0 0 0 0;\n",
              "      width: 32px;\n",
              "    }\n",
              "\n",
              "    .colab-df-convert:hover {\n",
              "      background-color: #E2EBFA;\n",
              "      box-shadow: 0px 1px 2px rgba(60, 64, 67, 0.3), 0px 1px 3px 1px rgba(60, 64, 67, 0.15);\n",
              "      fill: #174EA6;\n",
              "    }\n",
              "\n",
              "    .colab-df-buttons div {\n",
              "      margin-bottom: 4px;\n",
              "    }\n",
              "\n",
              "    [theme=dark] .colab-df-convert {\n",
              "      background-color: #3B4455;\n",
              "      fill: #D2E3FC;\n",
              "    }\n",
              "\n",
              "    [theme=dark] .colab-df-convert:hover {\n",
              "      background-color: #434B5C;\n",
              "      box-shadow: 0px 1px 3px 1px rgba(0, 0, 0, 0.15);\n",
              "      filter: drop-shadow(0px 1px 2px rgba(0, 0, 0, 0.3));\n",
              "      fill: #FFFFFF;\n",
              "    }\n",
              "  </style>\n",
              "\n",
              "    <script>\n",
              "      const buttonEl =\n",
              "        document.querySelector('#df-5e80ba01-c4c9-403e-8a6e-6c6ccc8098bd button.colab-df-convert');\n",
              "      buttonEl.style.display =\n",
              "        google.colab.kernel.accessAllowed ? 'block' : 'none';\n",
              "\n",
              "      async function convertToInteractive(key) {\n",
              "        const element = document.querySelector('#df-5e80ba01-c4c9-403e-8a6e-6c6ccc8098bd');\n",
              "        const dataTable =\n",
              "          await google.colab.kernel.invokeFunction('convertToInteractive',\n",
              "                                                    [key], {});\n",
              "        if (!dataTable) return;\n",
              "\n",
              "        const docLinkHtml = 'Like what you see? Visit the ' +\n",
              "          '<a target=\"_blank\" href=https://colab.research.google.com/notebooks/data_table.ipynb>data table notebook</a>'\n",
              "          + ' to learn more about interactive tables.';\n",
              "        element.innerHTML = '';\n",
              "        dataTable['output_type'] = 'display_data';\n",
              "        await google.colab.output.renderOutput(dataTable, element);\n",
              "        const docLink = document.createElement('div');\n",
              "        docLink.innerHTML = docLinkHtml;\n",
              "        element.appendChild(docLink);\n",
              "      }\n",
              "    </script>\n",
              "  </div>\n",
              "\n",
              "\n",
              "    <div id=\"df-7f77850d-cfd9-43af-a520-828ad038b7c5\">\n",
              "      <button class=\"colab-df-quickchart\" onclick=\"quickchart('df-7f77850d-cfd9-43af-a520-828ad038b7c5')\"\n",
              "                title=\"Suggest charts\"\n",
              "                style=\"display:none;\">\n",
              "\n",
              "<svg xmlns=\"http://www.w3.org/2000/svg\" height=\"24px\"viewBox=\"0 0 24 24\"\n",
              "     width=\"24px\">\n",
              "    <g>\n",
              "        <path d=\"M19 3H5c-1.1 0-2 .9-2 2v14c0 1.1.9 2 2 2h14c1.1 0 2-.9 2-2V5c0-1.1-.9-2-2-2zM9 17H7v-7h2v7zm4 0h-2V7h2v10zm4 0h-2v-4h2v4z\"/>\n",
              "    </g>\n",
              "</svg>\n",
              "      </button>\n",
              "\n",
              "<style>\n",
              "  .colab-df-quickchart {\n",
              "      --bg-color: #E8F0FE;\n",
              "      --fill-color: #1967D2;\n",
              "      --hover-bg-color: #E2EBFA;\n",
              "      --hover-fill-color: #174EA6;\n",
              "      --disabled-fill-color: #AAA;\n",
              "      --disabled-bg-color: #DDD;\n",
              "  }\n",
              "\n",
              "  [theme=dark] .colab-df-quickchart {\n",
              "      --bg-color: #3B4455;\n",
              "      --fill-color: #D2E3FC;\n",
              "      --hover-bg-color: #434B5C;\n",
              "      --hover-fill-color: #FFFFFF;\n",
              "      --disabled-bg-color: #3B4455;\n",
              "      --disabled-fill-color: #666;\n",
              "  }\n",
              "\n",
              "  .colab-df-quickchart {\n",
              "    background-color: var(--bg-color);\n",
              "    border: none;\n",
              "    border-radius: 50%;\n",
              "    cursor: pointer;\n",
              "    display: none;\n",
              "    fill: var(--fill-color);\n",
              "    height: 32px;\n",
              "    padding: 0;\n",
              "    width: 32px;\n",
              "  }\n",
              "\n",
              "  .colab-df-quickchart:hover {\n",
              "    background-color: var(--hover-bg-color);\n",
              "    box-shadow: 0 1px 2px rgba(60, 64, 67, 0.3), 0 1px 3px 1px rgba(60, 64, 67, 0.15);\n",
              "    fill: var(--button-hover-fill-color);\n",
              "  }\n",
              "\n",
              "  .colab-df-quickchart-complete:disabled,\n",
              "  .colab-df-quickchart-complete:disabled:hover {\n",
              "    background-color: var(--disabled-bg-color);\n",
              "    fill: var(--disabled-fill-color);\n",
              "    box-shadow: none;\n",
              "  }\n",
              "\n",
              "  .colab-df-spinner {\n",
              "    border: 2px solid var(--fill-color);\n",
              "    border-color: transparent;\n",
              "    border-bottom-color: var(--fill-color);\n",
              "    animation:\n",
              "      spin 1s steps(1) infinite;\n",
              "  }\n",
              "\n",
              "  @keyframes spin {\n",
              "    0% {\n",
              "      border-color: transparent;\n",
              "      border-bottom-color: var(--fill-color);\n",
              "      border-left-color: var(--fill-color);\n",
              "    }\n",
              "    20% {\n",
              "      border-color: transparent;\n",
              "      border-left-color: var(--fill-color);\n",
              "      border-top-color: var(--fill-color);\n",
              "    }\n",
              "    30% {\n",
              "      border-color: transparent;\n",
              "      border-left-color: var(--fill-color);\n",
              "      border-top-color: var(--fill-color);\n",
              "      border-right-color: var(--fill-color);\n",
              "    }\n",
              "    40% {\n",
              "      border-color: transparent;\n",
              "      border-right-color: var(--fill-color);\n",
              "      border-top-color: var(--fill-color);\n",
              "    }\n",
              "    60% {\n",
              "      border-color: transparent;\n",
              "      border-right-color: var(--fill-color);\n",
              "    }\n",
              "    80% {\n",
              "      border-color: transparent;\n",
              "      border-right-color: var(--fill-color);\n",
              "      border-bottom-color: var(--fill-color);\n",
              "    }\n",
              "    90% {\n",
              "      border-color: transparent;\n",
              "      border-bottom-color: var(--fill-color);\n",
              "    }\n",
              "  }\n",
              "</style>\n",
              "\n",
              "      <script>\n",
              "        async function quickchart(key) {\n",
              "          const quickchartButtonEl =\n",
              "            document.querySelector('#' + key + ' button');\n",
              "          quickchartButtonEl.disabled = true;  // To prevent multiple clicks.\n",
              "          quickchartButtonEl.classList.add('colab-df-spinner');\n",
              "          try {\n",
              "            const charts = await google.colab.kernel.invokeFunction(\n",
              "                'suggestCharts', [key], {});\n",
              "          } catch (error) {\n",
              "            console.error('Error during call to suggestCharts:', error);\n",
              "          }\n",
              "          quickchartButtonEl.classList.remove('colab-df-spinner');\n",
              "          quickchartButtonEl.classList.add('colab-df-quickchart-complete');\n",
              "        }\n",
              "        (() => {\n",
              "          let quickchartButtonEl =\n",
              "            document.querySelector('#df-7f77850d-cfd9-43af-a520-828ad038b7c5 button');\n",
              "          quickchartButtonEl.style.display =\n",
              "            google.colab.kernel.accessAllowed ? 'block' : 'none';\n",
              "        })();\n",
              "      </script>\n",
              "    </div>\n",
              "\n",
              "    </div>\n",
              "  </div>\n"
            ],
            "application/vnd.google.colaboratory.intrinsic+json": {
              "type": "dataframe",
              "variable_name": "df",
              "summary": "{\n  \"name\": \"df\",\n  \"rows\": 99,\n  \"fields\": [\n    {\n      \"column\": \"3.159499363321345566e-02\",\n      \"properties\": {\n        \"dtype\": \"number\",\n        \"std\": 0.8943130566096507,\n        \"min\": -1.318500344394381,\n        \"max\": 2.181371683049025,\n        \"num_unique_values\": 99,\n        \"samples\": [\n          0.1273314190904385,\n          0.6417403675063451,\n          0.21862323352500593\n        ],\n        \"semantic_type\": \"\",\n        \"description\": \"\"\n      }\n    },\n    {\n      \"column\": \"9.869877579082642072e-01\",\n      \"properties\": {\n        \"dtype\": \"number\",\n        \"std\": 0.5909086142970595,\n        \"min\": -1.0357020680498332,\n        \"max\": 1.5718993127141032,\n        \"num_unique_values\": 99,\n        \"samples\": [\n          -0.3796548967118949,\n          -0.39369468370639576,\n          -0.6525211867631453\n        ],\n        \"semantic_type\": \"\",\n        \"description\": \"\"\n      }\n    },\n    {\n      \"column\": \"0.000000000000000000e+00\",\n      \"properties\": {\n        \"dtype\": \"number\",\n        \"std\": 0.5025189076296059,\n        \"min\": 0.0,\n        \"max\": 1.0,\n        \"num_unique_values\": 2,\n        \"samples\": [\n          0.0,\n          1.0\n        ],\n        \"semantic_type\": \"\",\n        \"description\": \"\"\n      }\n    }\n  ]\n}"
            }
          },
          "metadata": {},
          "execution_count": 4
        }
      ]
    },
    {
      "cell_type": "code",
      "source": [
        "X = df.iloc[:,0:2]\n",
        "y = df.iloc[:,2]"
      ],
      "metadata": {
        "id": "ehEpqk0U0T_a"
      },
      "execution_count": null,
      "outputs": []
    },
    {
      "cell_type": "code",
      "source": [
        "plt.scatter(X.iloc[:,0],X.iloc[:,1],c=y)"
      ],
      "metadata": {
        "colab": {
          "base_uri": "https://localhost:8080/",
          "height": 447
        },
        "id": "7Ws0fDqR0L7b",
        "outputId": "3b70e465-dd71-483e-a3e1-24d95a6adf62"
      },
      "execution_count": null,
      "outputs": [
        {
          "output_type": "execute_result",
          "data": {
            "text/plain": [
              "<matplotlib.collections.PathCollection at 0x7cf4d4265490>"
            ]
          },
          "metadata": {},
          "execution_count": 11
        },
        {
          "output_type": "display_data",
          "data": {
            "text/plain": [
              "<Figure size 640x480 with 1 Axes>"
            ],
            "image/png": "[encoded data removed]"
          },
          "metadata": {}
        }
      ]
    },
    {
      "cell_type": "code",
      "source": [
        "model = Sequential()\n",
        "\n",
        "model.add(Dense(10, activation='tanh', input_dim=2))\n",
        "model.add(Dense(10, activation='tanh'))\n",
        "model.add(Dense(10, activation='tanh'))\n",
        "model.add(Dense(10, activation='tanh'))\n",
        "model.add(Dense(1, activation='sigmoid'))\n",
        "\n",
        "model.summary()"
      ],
      "metadata": {
        "colab": {
          "base_uri": "https://localhost:8080/",
          "height": 344
        },
        "id": "_DfrvDDa0QT7",
        "outputId": "3b6a6ce0-7d62-4f80-f5d2-782fea566a45"
      },
      "execution_count": null,
      "outputs": [
        {
          "output_type": "stream",
          "name": "stderr",
          "text": [
            "/usr/local/lib/python3.11/dist-packages/keras/src/layers/core/dense.py:87: UserWarning: Do not pass an `input_shape`/`input_dim` argument to a layer. When using Sequential models, prefer using an `Input(shape)` object as the first layer in the model instead.\n",
            "  super().__init__(activity_regularizer=activity_regularizer, **kwargs)\n"
          ]
        },
        {
          "output_type": "display_data",
          "data": {
            "text/plain": [
              "\u001b[1mModel: \"sequential\"\u001b[0m\n"
            ],
            "text/html": [
              "<pre style=\"white-space:pre;overflow-x:auto;line-height:normal;font-family:Menlo,'DejaVu Sans Mono',consolas,'Courier New',monospace\"><span style=\"font-weight: bold\">Model: \"sequential\"</span>\n",
              "</pre>\n"
            ]
          },
          "metadata": {}
        },
        {
          "output_type": "display_data",
          "data": {
            "text/plain": [
              "┏━━━━━━━━━━━━━━━━━━━━━━━━━━━━━━━━━┳━━━━━━━━━━━━━━━━━━━━━━━━┳━━━━━━━━━━━━━━━┓\n",
              "┃\u001b[1m \u001b[0m\u001b[1mLayer (type)                   \u001b[0m\u001b[1m \u001b[0m┃\u001b[1m \u001b[0m\u001b[1mOutput Shape          \u001b[0m\u001b[1m \u001b[0m┃\u001b[1m \u001b[0m\u001b[1m      Param #\u001b[0m\u001b[1m \u001b[0m┃\n",
              "┡━━━━━━━━━━━━━━━━━━━━━━━━━━━━━━━━━╇━━━━━━━━━━━━━━━━━━━━━━━━╇━━━━━━━━━━━━━━━┩\n",
              "│ dense (\u001b[38;5;33mDense\u001b[0m)                   │ (\u001b[38;5;45mNone\u001b[0m, \u001b[38;5;34m10\u001b[0m)             │            \u001b[38;5;34m30\u001b[0m │\n",
              "├─────────────────────────────────┼────────────────────────┼───────────────┤\n",
              "│ dense_1 (\u001b[38;5;33mDense\u001b[0m)                 │ (\u001b[38;5;45mNone\u001b[0m, \u001b[38;5;34m10\u001b[0m)             │           \u001b[38;5;34m110\u001b[0m │\n",
              "├─────────────────────────────────┼────────────────────────┼───────────────┤\n",
              "│ dense_2 (\u001b[38;5;33mDense\u001b[0m)                 │ (\u001b[38;5;45mNone\u001b[0m, \u001b[38;5;34m10\u001b[0m)             │           \u001b[38;5;34m110\u001b[0m │\n",
              "├─────────────────────────────────┼────────────────────────┼───────────────┤\n",
              "│ dense_3 (\u001b[38;5;33mDense\u001b[0m)                 │ (\u001b[38;5;45mNone\u001b[0m, \u001b[38;5;34m10\u001b[0m)             │           \u001b[38;5;34m110\u001b[0m │\n",
              "├─────────────────────────────────┼────────────────────────┼───────────────┤\n",
              "│ dense_4 (\u001b[38;5;33mDense\u001b[0m)                 │ (\u001b[38;5;45mNone\u001b[0m, \u001b[38;5;34m1\u001b[0m)              │            \u001b[38;5;34m11\u001b[0m │\n",
              "└─────────────────────────────────┴────────────────────────┴───────────────┘\n"
            ],
            "text/html": [
              "<pre style=\"white-space:pre;overflow-x:auto;line-height:normal;font-family:Menlo,'DejaVu Sans Mono',consolas,'Courier New',monospace\">┏━━━━━━━━━━━━━━━━━━━━━━━━━━━━━━━━━┳━━━━━━━━━━━━━━━━━━━━━━━━┳━━━━━━━━━━━━━━━┓\n",
              "┃<span style=\"font-weight: bold\"> Layer (type)                    </span>┃<span style=\"font-weight: bold\"> Output Shape           </span>┃<span style=\"font-weight: bold\">       Param # </span>┃\n",
              "┡━━━━━━━━━━━━━━━━━━━━━━━━━━━━━━━━━╇━━━━━━━━━━━━━━━━━━━━━━━━╇━━━━━━━━━━━━━━━┩\n",
              "│ dense (<span style=\"color: #0087ff; text-decoration-color: #0087ff\">Dense</span>)                   │ (<span style=\"color: #00d7ff; text-decoration-color: #00d7ff\">None</span>, <span style=\"color: #00af00; text-decoration-color: #00af00\">10</span>)             │            <span style=\"color: #00af00; text-decoration-color: #00af00\">30</span> │\n",
              "├─────────────────────────────────┼────────────────────────┼───────────────┤\n",
              "│ dense_1 (<span style=\"color: #0087ff; text-decoration-color: #0087ff\">Dense</span>)                 │ (<span style=\"color: #00d7ff; text-decoration-color: #00d7ff\">None</span>, <span style=\"color: #00af00; text-decoration-color: #00af00\">10</span>)             │           <span style=\"color: #00af00; text-decoration-color: #00af00\">110</span> │\n",
              "├─────────────────────────────────┼────────────────────────┼───────────────┤\n",
              "│ dense_2 (<span style=\"color: #0087ff; text-decoration-color: #0087ff\">Dense</span>)                 │ (<span style=\"color: #00d7ff; text-decoration-color: #00d7ff\">None</span>, <span style=\"color: #00af00; text-decoration-color: #00af00\">10</span>)             │           <span style=\"color: #00af00; text-decoration-color: #00af00\">110</span> │\n",
              "├─────────────────────────────────┼────────────────────────┼───────────────┤\n",
              "│ dense_3 (<span style=\"color: #0087ff; text-decoration-color: #0087ff\">Dense</span>)                 │ (<span style=\"color: #00d7ff; text-decoration-color: #00d7ff\">None</span>, <span style=\"color: #00af00; text-decoration-color: #00af00\">10</span>)             │           <span style=\"color: #00af00; text-decoration-color: #00af00\">110</span> │\n",
              "├─────────────────────────────────┼────────────────────────┼───────────────┤\n",
              "│ dense_4 (<span style=\"color: #0087ff; text-decoration-color: #0087ff\">Dense</span>)                 │ (<span style=\"color: #00d7ff; text-decoration-color: #00d7ff\">None</span>, <span style=\"color: #00af00; text-decoration-color: #00af00\">1</span>)              │            <span style=\"color: #00af00; text-decoration-color: #00af00\">11</span> │\n",
              "└─────────────────────────────────┴────────────────────────┴───────────────┘\n",
              "</pre>\n"
            ]
          },
          "metadata": {}
        },
        {
          "output_type": "display_data",
          "data": {
            "text/plain": [
              "\u001b[1m Total params: \u001b[0m\u001b[38;5;34m371\u001b[0m (1.45 KB)\n"
            ],
            "text/html": [
              "<pre style=\"white-space:pre;overflow-x:auto;line-height:normal;font-family:Menlo,'DejaVu Sans Mono',consolas,'Courier New',monospace\"><span style=\"font-weight: bold\"> Total params: </span><span style=\"color: #00af00; text-decoration-color: #00af00\">371</span> (1.45 KB)\n",
              "</pre>\n"
            ]
          },
          "metadata": {}
        },
        {
          "output_type": "display_data",
          "data": {
            "text/plain": [
              "\u001b[1m Trainable params: \u001b[0m\u001b[38;5;34m371\u001b[0m (1.45 KB)\n"
            ],
            "text/html": [
              "<pre style=\"white-space:pre;overflow-x:auto;line-height:normal;font-family:Menlo,'DejaVu Sans Mono',consolas,'Courier New',monospace\"><span style=\"font-weight: bold\"> Trainable params: </span><span style=\"color: #00af00; text-decoration-color: #00af00\">371</span> (1.45 KB)\n",
              "</pre>\n"
            ]
          },
          "metadata": {}
        },
        {
          "output_type": "display_data",
          "data": {
            "text/plain": [
              "\u001b[1m Non-trainable params: \u001b[0m\u001b[38;5;34m0\u001b[0m (0.00 B)\n"
            ],
            "text/html": [
              "<pre style=\"white-space:pre;overflow-x:auto;line-height:normal;font-family:Menlo,'DejaVu Sans Mono',consolas,'Courier New',monospace\"><span style=\"font-weight: bold\"> Non-trainable params: </span><span style=\"color: #00af00; text-decoration-color: #00af00\">0</span> (0.00 B)\n",
              "</pre>\n"
            ]
          },
          "metadata": {}
        }
      ]
    },
    {
      "cell_type": "code",
      "source": [
        "model.get_weights()"
      ],
      "metadata": {
        "colab": {
          "base_uri": "https://localhost:8080/"
        },
        "id": "P_2kBsCc0-AQ",
        "outputId": "d6f7f32b-49e6-456f-84e2-48286e9024b2"
      },
      "execution_count": null,
      "outputs": [
        {
          "output_type": "execute_result",
          "data": {
            "text/plain": [
              "[array([[-0.22934797, -0.18055725,  0.28520167,  0.04819393, -0.03896022,\n",
              "         -0.69793934,  0.04012835, -0.67438865,  0.5009133 ,  0.39127797],\n",
              "        [ 0.58295745,  0.09402961, -0.35525241,  0.4031245 ,  0.57426864,\n",
              "         -0.57708794, -0.43370354, -0.526065  , -0.33469418, -0.48703986]],\n",
              "       dtype=float32),\n",
              " array([0., 0., 0., 0., 0., 0., 0., 0., 0., 0.], dtype=float32),\n",
              " array([[-0.08523548,  0.26898527, -0.1377843 ,  0.37847632,  0.36711365,\n",
              "         -0.20021963, -0.02363157,  0.5103297 , -0.51641065,  0.10308206],\n",
              "        [-0.23741022, -0.23596355,  0.5013764 , -0.09439301,  0.27436316,\n",
              "          0.52726376,  0.41358483,  0.5235286 , -0.4563939 ,  0.19662952],\n",
              "        [ 0.11672956,  0.4195004 ,  0.23646492,  0.23478317, -0.53202075,\n",
              "         -0.01505554,  0.12717724,  0.03004944, -0.02444112,  0.06704807],\n",
              "        [ 0.13890147, -0.47108328,  0.15519929,  0.51320624,  0.18026495,\n",
              "          0.3025726 ,  0.15424508,  0.08256602, -0.07110593, -0.13325527],\n",
              "        [-0.06583074, -0.3921672 ,  0.00527769, -0.30312234, -0.02600229,\n",
              "         -0.3907768 ,  0.11107934,  0.35153264,  0.4671564 ,  0.38828027],\n",
              "        [ 0.19211656,  0.50947356, -0.2522999 ,  0.28307372, -0.39862853,\n",
              "         -0.07413805, -0.4123992 ,  0.11006951, -0.46218938, -0.2935348 ],\n",
              "        [ 0.37015343, -0.11337909,  0.44220573,  0.39518678,  0.2638582 ,\n",
              "         -0.18142092,  0.2844203 ,  0.24066287,  0.524986  , -0.5198115 ],\n",
              "        [ 0.0238263 , -0.06420621,  0.46446657,  0.29393882,  0.1486156 ,\n",
              "          0.36896968, -0.38272506, -0.5421293 , -0.03173047,  0.18030113],\n",
              "        [-0.06504628, -0.10286957, -0.23689699,  0.45050627,  0.4250911 ,\n",
              "          0.3830732 , -0.3611923 , -0.1813623 ,  0.5385423 , -0.00492525],\n",
              "        [-0.09966967, -0.09540156, -0.5461264 , -0.26741445,  0.30551422,\n",
              "          0.16941655, -0.19285163, -0.02063107, -0.12618542,  0.40865344]],\n",
              "       dtype=float32),\n",
              " array([0., 0., 0., 0., 0., 0., 0., 0., 0., 0.], dtype=float32),\n",
              " array([[-0.53047514,  0.4121908 , -0.31817436, -0.157913  ,  0.01279575,\n",
              "         -0.40259823,  0.49822557, -0.01568353,  0.04150599, -0.4894868 ],\n",
              "        [ 0.53798616, -0.05081162, -0.46842974,  0.32761842,  0.15068787,\n",
              "          0.04018182,  0.04872888, -0.13975367,  0.03591609, -0.20525807],\n",
              "        [-0.05312902, -0.3942673 , -0.49858052,  0.35673833, -0.11440632,\n",
              "          0.40761852, -0.25995532, -0.40437266,  0.460225  ,  0.3249281 ],\n",
              "        [ 0.16923022, -0.38520038,  0.49342442,  0.36515903, -0.4504279 ,\n",
              "          0.4658805 ,  0.00226867,  0.27963966,  0.239909  ,  0.0572561 ],\n",
              "        [-0.09492412,  0.26660573,  0.03906882,  0.06744295,  0.2955094 ,\n",
              "          0.26499808,  0.25130063, -0.26915297,  0.47068274,  0.49573052],\n",
              "        [-0.4592026 ,  0.25948352, -0.00903076, -0.35386544, -0.32349187,\n",
              "         -0.45478612,  0.5325359 ,  0.36669904, -0.04870707,  0.16319567],\n",
              "        [ 0.4923687 ,  0.43821305, -0.17729124, -0.04575205, -0.54666936,\n",
              "         -0.51794213,  0.53424335, -0.45888472,  0.33542728,  0.28336895],\n",
              "        [-0.43762553, -0.19094336,  0.51942277,  0.24001986, -0.08640605,\n",
              "         -0.18499497,  0.20042008, -0.21440583, -0.33696342, -0.15565372],\n",
              "        [-0.4518227 ,  0.30324668, -0.11356768, -0.0635815 ,  0.04858249,\n",
              "         -0.25671336,  0.08346641,  0.01840037, -0.36715034,  0.3933912 ],\n",
              "        [-0.24293953, -0.29177043, -0.27950424,  0.34544075, -0.4775582 ,\n",
              "          0.21678251,  0.05130732, -0.37286457,  0.28111452,  0.04282349]],\n",
              "       dtype=float32),\n",
              " array([0., 0., 0., 0., 0., 0., 0., 0., 0., 0.], dtype=float32),\n",
              " array([[ 0.48764992, -0.34810066,  0.41433984, -0.5121601 , -0.12251905,\n",
              "          0.05648863, -0.511742  ,  0.1880818 ,  0.21265554, -0.5110956 ],\n",
              "        [ 0.25468862, -0.43828538, -0.21445024, -0.25354373,  0.32771897,\n",
              "          0.07387531,  0.4175899 ,  0.4597479 , -0.42163238, -0.15355036],\n",
              "        [-0.27508894, -0.13668826,  0.40057504, -0.33009923,  0.478446  ,\n",
              "         -0.0651488 ,  0.03062427,  0.08924329,  0.14782006,  0.47423756],\n",
              "        [ 0.25276726,  0.18258512, -0.45358798, -0.24456614, -0.4020986 ,\n",
              "          0.12210363,  0.05949736, -0.30557832,  0.21600056, -0.14647645],\n",
              "        [-0.06151572,  0.24612963,  0.24285167, -0.53766173,  0.21336871,\n",
              "          0.20744342, -0.44209853, -0.50969   , -0.0876807 ,  0.41310918],\n",
              "        [ 0.11040461, -0.06852761, -0.36223894, -0.00688756,  0.51506793,\n",
              "         -0.25949356,  0.46682942,  0.368446  , -0.33470464,  0.54092574],\n",
              "        [ 0.04496199, -0.48638535,  0.3304314 , -0.32690215, -0.5473375 ,\n",
              "          0.52464664,  0.15067416,  0.09712976, -0.3807497 , -0.1079382 ],\n",
              "        [ 0.38553768,  0.42539656,  0.2185278 ,  0.50655675, -0.08435819,\n",
              "          0.12951523,  0.48217344, -0.4329483 , -0.44292724, -0.07109758],\n",
              "        [-0.3652965 , -0.17958057, -0.38763815,  0.05159229, -0.33614016,\n",
              "          0.21131551, -0.5020672 , -0.12216881, -0.22089419,  0.38439083],\n",
              "        [-0.10002199, -0.3635003 , -0.51535785, -0.10358363, -0.04237163,\n",
              "         -0.27027354,  0.02465761, -0.35551658,  0.47428215, -0.360519  ]],\n",
              "       dtype=float32),\n",
              " array([0., 0., 0., 0., 0., 0., 0., 0., 0., 0.], dtype=float32),\n",
              " array([[-0.58715105],\n",
              "        [ 0.08024704],\n",
              "        [ 0.01013821],\n",
              "        [-0.27750313],\n",
              "        [ 0.7290792 ],\n",
              "        [ 0.2930159 ],\n",
              "        [-0.37533352],\n",
              "        [ 0.31238335],\n",
              "        [ 0.31187314],\n",
              "        [ 0.26582044]], dtype=float32),\n",
              " array([0.], dtype=float32)]"
            ]
          },
          "metadata": {},
          "execution_count": 13
        }
      ]
    },
    {
      "cell_type": "code",
      "source": [
        "initial_weights = model.get_weights()"
      ],
      "metadata": {
        "id": "2MS0nmgZ1Aqs"
      },
      "execution_count": null,
      "outputs": []
    },
    {
      "cell_type": "code",
      "source": [
        "for i in range(len(initial_weights)):\n",
        "    if i==0:\n",
        "        initial_weights[i] = np.random.randn(2,10)*np.sqrt(1/2)\n",
        "    elif i==8:\n",
        "        initial_weights[i] = np.random.randn(10,1)*np.sqrt(1/10)\n",
        "    elif i%2==0:\n",
        "        initial_weights[i] = np.random.randn(10,10)*np.sqrt(1/10)\n",
        "    else:\n",
        "        initial_weights[i] = np.zeros(initial_weights[i].shape)"
      ],
      "metadata": {
        "id": "T0GwAqUD1ELw"
      },
      "execution_count": null,
      "outputs": []
    },
    {
      "cell_type": "code",
      "source": [
        "initial_weights"
      ],
      "metadata": {
        "colab": {
          "base_uri": "https://localhost:8080/"
        },
        "id": "4rnNEIRf2JIP",
        "outputId": "e71393c3-5459-4702-a2c5-8b37be8a2af0"
      },
      "execution_count": null,
      "outputs": [
        {
          "output_type": "execute_result",
          "data": {
            "text/plain": [
              "[array([[-0.05149324, -0.74666794, -0.8572822 , -0.33034941,  0.05727969,\n",
              "         -0.18144877,  0.93706667, -0.58793187, -0.07323668, -0.05091689],\n",
              "        [-0.14340746,  0.3021504 , -0.57600548,  0.30303271,  0.79485417,\n",
              "         -0.11265961, -0.36092833,  0.65935822,  0.74484986,  0.90668816]]),\n",
              " array([0., 0., 0., 0., 0., 0., 0., 0., 0., 0.]),\n",
              " array([[ 0.68141904,  0.13963853, -0.00310688,  0.09452131, -0.03762549,\n",
              "         -0.14850893, -0.18570155,  0.35290755, -0.25142926, -0.04432668],\n",
              "        [ 0.17690666, -0.16899378, -0.38852128, -0.16284246, -0.21452212,\n",
              "          0.2568566 , -0.04801929, -0.43300934, -0.206484  , -0.19587332],\n",
              "        [ 0.09350403, -0.02414991,  0.38720183,  0.17966058, -0.03331665,\n",
              "          0.52904775, -0.42851773,  0.08865922, -0.56260906, -0.02458364],\n",
              "        [-0.09830845, -0.42864897,  0.11355225, -0.57716292,  0.01115157,\n",
              "         -0.23420142,  0.2066984 , -0.11930593,  0.50357316,  0.47827882],\n",
              "        [-0.16038726, -0.06379103, -0.55622354,  0.29854061,  0.01184489,\n",
              "         -0.64339519,  0.31022974,  0.06080046,  0.12113206,  0.60308754],\n",
              "        [-0.16348959,  0.12597372,  0.58669853,  0.1810954 ,  0.35511784,\n",
              "         -0.00705169,  0.52272733,  0.56115999, -0.09410786,  0.05936418],\n",
              "        [ 0.26222322, -0.15559305, -0.17437726,  0.41278264, -0.09389529,\n",
              "         -0.08101729,  0.46268609, -0.01172526,  0.45728154,  0.07805723],\n",
              "        [ 0.08639076, -0.11700071, -0.25740984,  0.01366409,  0.21485665,\n",
              "          0.2368077 ,  0.02796096, -0.59978222,  0.49709331, -0.41917619],\n",
              "        [ 0.43628668,  0.09573229,  0.06686954, -0.66572689,  0.05477077,\n",
              "          0.17323289, -0.14908939, -0.26760403,  0.18962971, -0.09055219],\n",
              "        [ 0.01690382,  0.15286815, -0.29996381,  0.25171545,  0.02381998,\n",
              "         -0.47898258, -0.25008411, -0.06333086,  0.2835222 ,  0.05456872]]),\n",
              " array([0., 0., 0., 0., 0., 0., 0., 0., 0., 0.]),\n",
              " array([[-0.63960942, -0.3144581 ,  0.47245322, -0.39072077,  0.4757911 ,\n",
              "          0.14133427,  0.15273367,  0.50157232,  0.34676111,  0.21265504],\n",
              "        [-0.0064942 ,  0.1263312 ,  0.23492703, -0.3628207 ,  0.32228294,\n",
              "          0.29602003,  0.17435509,  0.19522186, -0.14579973,  0.08750779],\n",
              "        [-0.18584398, -0.49375973,  0.00647265,  0.04631831,  0.04804906,\n",
              "         -0.30160782, -0.37741143, -0.04755892, -0.13085718, -0.34496986],\n",
              "        [-0.11573454, -0.10305163,  0.24834786, -0.13276407,  0.07014774,\n",
              "         -0.27832574, -0.09915934,  0.1793486 , -0.02300252, -0.19152951],\n",
              "        [-0.17014482,  0.30415246,  0.29812096, -0.60641967, -0.34702853,\n",
              "         -0.08742034,  0.24275601, -0.27270224, -0.49776999,  0.45121482],\n",
              "        [ 0.53626367,  0.1000764 , -0.21403927, -0.24673108,  0.13638627,\n",
              "          0.37628359,  0.05950017, -0.0736481 ,  0.16432807,  0.34534387],\n",
              "        [-0.04500366, -0.38006103,  0.15835439,  0.44310273,  0.31767945,\n",
              "          0.10348944,  0.10232221,  0.31339691, -0.66148534, -0.27651969],\n",
              "        [ 0.2572022 , -0.11640956, -0.10926088, -0.09452925, -0.15041641,\n",
              "          0.16944073, -0.32584481, -0.17640571,  0.08643474,  0.00618482],\n",
              "        [-0.16681834, -0.20358157,  0.43426654,  0.46243731,  0.03220021,\n",
              "          0.10236485,  0.27905581,  0.25300312, -0.4028727 ,  0.03139348],\n",
              "        [-0.15825591,  0.02964411, -0.0828244 , -0.41564462,  0.22452262,\n",
              "          0.00747349,  0.04053668,  0.10609954,  0.24071387, -0.28439503]]),\n",
              " array([0., 0., 0., 0., 0., 0., 0., 0., 0., 0.]),\n",
              " array([[-1.80956207e-01, -4.22288275e-01, -2.95028662e-02,\n",
              "         -1.50368556e-01,  1.96329775e-02, -2.17856344e-02,\n",
              "         -4.10223685e-01,  6.18349475e-02, -3.72948275e-01,\n",
              "          2.99083722e-01],\n",
              "        [-3.39872084e-01,  8.81262297e-02, -7.32259824e-02,\n",
              "          9.03517773e-02,  9.27245543e-02,  2.24094983e-01,\n",
              "         -1.40683773e-01,  3.88823402e-01, -1.55089022e-01,\n",
              "         -1.82202152e-01],\n",
              "        [-6.51024453e-01, -1.34333579e-01, -4.60620105e-01,\n",
              "          3.52068334e-01,  2.19243133e-01, -2.37970716e-02,\n",
              "         -8.86511306e-01, -4.19985537e-01, -4.48523944e-01,\n",
              "         -2.41600507e-01],\n",
              "        [ 4.73560520e-01, -1.32649682e-01,  2.10500969e-01,\n",
              "          3.35442933e-01, -3.15314429e-01,  2.89249963e-01,\n",
              "         -4.93061732e-01,  7.41391427e-01,  3.87931292e-04,\n",
              "          3.03146935e-02],\n",
              "        [-3.56894566e-01,  1.97077674e-01,  3.91161636e-01,\n",
              "          9.28194024e-02,  2.73220174e-02,  2.10203454e-01,\n",
              "          1.42775329e-01,  8.09599056e-01,  5.44426545e-01,\n",
              "         -3.51983176e-01],\n",
              "        [ 9.69110076e-02,  1.29524422e-01,  2.75089807e-01,\n",
              "          6.43482363e-02,  1.08546138e-01, -3.00134186e-01,\n",
              "          3.93625898e-01, -2.64109391e-02,  1.15225371e-01,\n",
              "          1.32195128e-01],\n",
              "        [-2.66344897e-01, -1.42451358e-01,  1.81680872e-01,\n",
              "          2.67938766e-01, -9.27789790e-02,  2.97722582e-01,\n",
              "          6.30190045e-01,  3.45766660e-01,  2.07024749e-01,\n",
              "         -8.63997004e-02],\n",
              "        [ 4.87009584e-02, -1.81317338e-02,  2.05985605e-01,\n",
              "          2.31891760e-01, -4.39005574e-02, -3.27872290e-01,\n",
              "          6.89653129e-01,  8.90472191e-03,  2.49050635e-01,\n",
              "         -4.06953575e-01],\n",
              "        [ 7.95774831e-02, -1.31215947e-01, -3.80169172e-01,\n",
              "         -3.10178209e-01, -4.17954618e-01,  8.54368899e-03,\n",
              "          1.42689028e-01, -3.59105116e-01, -5.41090763e-01,\n",
              "         -1.06974752e-01],\n",
              "        [ 2.86644872e-02, -2.25435374e-03,  9.08333231e-02,\n",
              "          1.78774650e-02, -2.03804872e-01, -5.18059443e-01,\n",
              "          4.42729907e-01, -3.02429193e-01,  1.72839786e-01,\n",
              "          1.58043692e-01]]),\n",
              " array([0., 0., 0., 0., 0., 0., 0., 0., 0., 0.]),\n",
              " array([[ 0.29344143],\n",
              "        [ 0.15648603],\n",
              "        [ 0.11583113],\n",
              "        [-0.48938085],\n",
              "        [-0.05345458],\n",
              "        [ 0.2578213 ],\n",
              "        [-0.62298621],\n",
              "        [ 0.13906195],\n",
              "        [ 0.25025665],\n",
              "        [-0.56110984]]),\n",
              " array([0.])]"
            ]
          },
          "metadata": {},
          "execution_count": 19
        }
      ]
    },
    {
      "cell_type": "code",
      "source": [
        "model.set_weights(initial_weights)"
      ],
      "metadata": {
        "id": "K5xHm-_Z2Kna"
      },
      "execution_count": null,
      "outputs": []
    },
    {
      "cell_type": "code",
      "source": [
        "model.get_weights()"
      ],
      "metadata": {
        "colab": {
          "base_uri": "https://localhost:8080/"
        },
        "id": "1CKJxEsy2Qlb",
        "outputId": "2d66d4c1-725e-4bc2-cf5d-23f78ed889a1"
      },
      "execution_count": null,
      "outputs": [
        {
          "output_type": "execute_result",
          "data": {
            "text/plain": [
              "[array([[-0.05149323, -0.7466679 , -0.8572822 , -0.33034942,  0.05727969,\n",
              "         -0.18144877,  0.9370667 , -0.5879319 , -0.07323668, -0.05091689],\n",
              "        [-0.14340746,  0.3021504 , -0.57600546,  0.3030327 ,  0.79485416,\n",
              "         -0.1126596 , -0.36092833,  0.6593582 ,  0.74484986,  0.90668815]],\n",
              "       dtype=float32),\n",
              " array([0., 0., 0., 0., 0., 0., 0., 0., 0., 0.], dtype=float32),\n",
              " array([[ 0.681419  ,  0.13963853, -0.00310688,  0.09452131, -0.03762548,\n",
              "         -0.14850894, -0.18570155,  0.35290754, -0.25142926, -0.04432668],\n",
              "        [ 0.17690666, -0.16899377, -0.38852128, -0.16284247, -0.21452212,\n",
              "          0.2568566 , -0.04801929, -0.43300936, -0.206484  , -0.19587332],\n",
              "        [ 0.09350403, -0.02414991,  0.38720185,  0.17966057, -0.03331665,\n",
              "          0.5290477 , -0.42851773,  0.08865922, -0.5626091 , -0.02458364],\n",
              "        [-0.09830844, -0.42864898,  0.11355225, -0.5771629 ,  0.01115157,\n",
              "         -0.23420142,  0.2066984 , -0.11930593,  0.5035732 ,  0.47827882],\n",
              "        [-0.16038726, -0.06379103, -0.5562236 ,  0.29854062,  0.01184489,\n",
              "         -0.6433952 ,  0.31022975,  0.06080046,  0.12113206,  0.60308754],\n",
              "        [-0.1634896 ,  0.12597372,  0.58669853,  0.18109539,  0.35511783,\n",
              "         -0.00705169,  0.5227273 ,  0.56115997, -0.09410786,  0.05936418],\n",
              "        [ 0.2622232 , -0.15559305, -0.17437726,  0.41278264, -0.09389529,\n",
              "         -0.08101729,  0.4626861 , -0.01172526,  0.45728153,  0.07805723],\n",
              "        [ 0.08639076, -0.11700071, -0.25740984,  0.01366409,  0.21485665,\n",
              "          0.2368077 ,  0.02796096, -0.5997822 ,  0.49709332, -0.4191762 ],\n",
              "        [ 0.4362867 ,  0.09573229,  0.06686954, -0.6657269 ,  0.05477077,\n",
              "          0.17323288, -0.14908938, -0.26760402,  0.1896297 , -0.09055219],\n",
              "        [ 0.01690382,  0.15286815, -0.2999638 ,  0.25171545,  0.02381998,\n",
              "         -0.47898257, -0.2500841 , -0.06333086,  0.2835222 ,  0.05456872]],\n",
              "       dtype=float32),\n",
              " array([0., 0., 0., 0., 0., 0., 0., 0., 0., 0.], dtype=float32),\n",
              " array([[-0.6396094 , -0.3144581 ,  0.4724532 , -0.39072078,  0.4757911 ,\n",
              "          0.14133427,  0.15273367,  0.5015723 ,  0.3467611 ,  0.21265504],\n",
              "        [-0.0064942 ,  0.1263312 ,  0.23492703, -0.36282068,  0.32228294,\n",
              "          0.29602003,  0.17435509,  0.19522186, -0.14579973,  0.08750779],\n",
              "        [-0.18584399, -0.49375972,  0.00647265,  0.04631831,  0.04804906,\n",
              "         -0.30160782, -0.37741143, -0.04755892, -0.13085718, -0.34496987],\n",
              "        [-0.11573455, -0.10305163,  0.24834785, -0.13276407,  0.07014775,\n",
              "         -0.27832574, -0.09915934,  0.1793486 , -0.02300251, -0.19152951],\n",
              "        [-0.17014481,  0.30415246,  0.29812095, -0.6064197 , -0.34702852,\n",
              "         -0.08742034,  0.24275601, -0.27270225, -0.49776998,  0.45121482],\n",
              "        [ 0.53626364,  0.1000764 , -0.21403927, -0.24673109,  0.13638628,\n",
              "          0.3762836 ,  0.05950017, -0.0736481 ,  0.16432807,  0.34534386],\n",
              "        [-0.04500366, -0.38006103,  0.15835439,  0.44310275,  0.31767946,\n",
              "          0.10348944,  0.10232221,  0.3133969 , -0.6614853 , -0.2765197 ],\n",
              "        [ 0.2572022 , -0.11640956, -0.10926088, -0.09452925, -0.15041642,\n",
              "          0.16944073, -0.3258448 , -0.17640571,  0.08643474,  0.00618482],\n",
              "        [-0.16681834, -0.20358157,  0.43426654,  0.4624373 ,  0.03220021,\n",
              "          0.10236485,  0.2790558 ,  0.25300312, -0.40287268,  0.03139348],\n",
              "        [-0.15825592,  0.02964411, -0.0828244 , -0.41564462,  0.22452262,\n",
              "          0.00747349,  0.04053668,  0.10609954,  0.24071386, -0.28439504]],\n",
              "       dtype=float32),\n",
              " array([0., 0., 0., 0., 0., 0., 0., 0., 0., 0.], dtype=float32),\n",
              " array([[-1.8095620e-01, -4.2228827e-01, -2.9502867e-02, -1.5036856e-01,\n",
              "          1.9632978e-02, -2.1785634e-02, -4.1022369e-01,  6.1834946e-02,\n",
              "         -3.7294829e-01,  2.9908371e-01],\n",
              "        [-3.3987209e-01,  8.8126227e-02, -7.3225982e-02,  9.0351775e-02,\n",
              "          9.2724554e-02,  2.2409499e-01, -1.4068377e-01,  3.8882339e-01,\n",
              "         -1.5508902e-01, -1.8220215e-01],\n",
              "        [-6.5102446e-01, -1.3433358e-01, -4.6062011e-01,  3.5206833e-01,\n",
              "          2.1924314e-01, -2.3797072e-02, -8.8651133e-01, -4.1998553e-01,\n",
              "         -4.4852394e-01, -2.4160051e-01],\n",
              "        [ 4.7356051e-01, -1.3264968e-01,  2.1050097e-01,  3.3544293e-01,\n",
              "         -3.1531444e-01,  2.8924996e-01, -4.9306172e-01,  7.4139142e-01,\n",
              "          3.8793130e-04,  3.0314693e-02],\n",
              "        [-3.5689455e-01,  1.9707768e-01,  3.9116165e-01,  9.2819400e-02,\n",
              "          2.7322017e-02,  2.1020345e-01,  1.4277533e-01,  8.0959904e-01,\n",
              "          5.4442656e-01, -3.5198319e-01],\n",
              "        [ 9.6911006e-02,  1.2952442e-01,  2.7508980e-01,  6.4348236e-02,\n",
              "          1.0854614e-01, -3.0013418e-01,  3.9362589e-01, -2.6410939e-02,\n",
              "          1.1522537e-01,  1.3219513e-01],\n",
              "        [-2.6634490e-01, -1.4245136e-01,  1.8168087e-01,  2.6793876e-01,\n",
              "         -9.2778981e-02,  2.9772258e-01,  6.3019007e-01,  3.4576666e-01,\n",
              "          2.0702475e-01, -8.6399697e-02],\n",
              "        [ 4.8700958e-02, -1.8131733e-02,  2.0598561e-01,  2.3189177e-01,\n",
              "         -4.3900557e-02, -3.2787228e-01,  6.8965316e-01,  8.9047216e-03,\n",
              "          2.4905063e-01, -4.0695357e-01],\n",
              "        [ 7.9577483e-02, -1.3121594e-01, -3.8016918e-01, -3.1017822e-01,\n",
              "         -4.1795462e-01,  8.5436888e-03,  1.4268903e-01, -3.5910511e-01,\n",
              "         -5.4109079e-01, -1.0697475e-01],\n",
              "        [ 2.8664486e-02, -2.2543538e-03,  9.0833321e-02,  1.7877465e-02,\n",
              "         -2.0380487e-01, -5.1805943e-01,  4.4272992e-01, -3.0242920e-01,\n",
              "          1.7283979e-01,  1.5804370e-01]], dtype=float32),\n",
              " array([0., 0., 0., 0., 0., 0., 0., 0., 0., 0.], dtype=float32),\n",
              " array([[ 0.29344144],\n",
              "        [ 0.15648603],\n",
              "        [ 0.11583113],\n",
              "        [-0.48938084],\n",
              "        [-0.05345458],\n",
              "        [ 0.2578213 ],\n",
              "        [-0.6229862 ],\n",
              "        [ 0.13906194],\n",
              "        [ 0.25025666],\n",
              "        [-0.56110984]], dtype=float32),\n",
              " array([0.], dtype=float32)]"
            ]
          },
          "metadata": {},
          "execution_count": 21
        }
      ]
    },
    {
      "cell_type": "code",
      "source": [
        "model.compile(loss='binary_crossentropy', optimizer='adam', metrics=['accuracy'])"
      ],
      "metadata": {
        "id": "C-krMZM12iRR"
      },
      "execution_count": null,
      "outputs": []
    },
    {
      "cell_type": "code",
      "source": [
        "history = model.fit(X, y, validation_split=0.2, epochs=100)"
      ],
      "metadata": {
        "colab": {
          "base_uri": "https://localhost:8080/"
        },
        "id": "EvkDCKqx2k41",
        "outputId": "b5fb2e3b-11b0-4e2f-e90f-1917b34e4690"
      },
      "execution_count": null,
      "outputs": [
        {
          "output_type": "stream",
          "name": "stdout",
          "text": [
            "Epoch 1/100\n",
            "\u001b[1m3/3\u001b[0m \u001b[32m━━━━━━━━━━━━━━━━━━━━\u001b[0m\u001b[37m\u001b[0m \u001b[1m3s\u001b[0m 217ms/step - accuracy: 0.7183 - loss: 0.6180 - val_accuracy: 0.8500 - val_loss: 0.5715\n",
            "Epoch 2/100\n",
            "\u001b[1m3/3\u001b[0m \u001b[32m━━━━━━━━━━━━━━━━━━━━\u001b[0m\u001b[37m\u001b[0m \u001b[1m0s\u001b[0m 69ms/step - accuracy: 0.7294 - loss: 0.6143 - val_accuracy: 0.8500 - val_loss: 0.5589\n",
            "Epoch 3/100\n",
            "\u001b[1m3/3\u001b[0m \u001b[32m━━━━━━━━━━━━━━━━━━━━\u001b[0m\u001b[37m\u001b[0m \u001b[1m0s\u001b[0m 55ms/step - accuracy: 0.7147 - loss: 0.6047 - val_accuracy: 0.8500 - val_loss: 0.5464\n",
            "Epoch 4/100\n",
            "\u001b[1m3/3\u001b[0m \u001b[32m━━━━━━━━━━━━━━━━━━━━\u001b[0m\u001b[37m\u001b[0m \u001b[1m0s\u001b[0m 51ms/step - accuracy: 0.7987 - loss: 0.5901 - val_accuracy: 0.8500 - val_loss: 0.5340\n",
            "Epoch 5/100\n",
            "\u001b[1m3/3\u001b[0m \u001b[32m━━━━━━━━━━━━━━━━━━━━\u001b[0m\u001b[37m\u001b[0m \u001b[1m0s\u001b[0m 69ms/step - accuracy: 0.7884 - loss: 0.5758 - val_accuracy: 0.8500 - val_loss: 0.5220\n",
            "Epoch 6/100\n",
            "\u001b[1m3/3\u001b[0m \u001b[32m━━━━━━━━━━━━━━━━━━━━\u001b[0m\u001b[37m\u001b[0m \u001b[1m0s\u001b[0m 48ms/step - accuracy: 0.7987 - loss: 0.5636 - val_accuracy: 0.8500 - val_loss: 0.5101\n",
            "Epoch 7/100\n",
            "\u001b[1m3/3\u001b[0m \u001b[32m━━━━━━━━━━━━━━━━━━━━\u001b[0m\u001b[37m\u001b[0m \u001b[1m0s\u001b[0m 65ms/step - accuracy: 0.7908 - loss: 0.5529 - val_accuracy: 0.8500 - val_loss: 0.4981\n",
            "Epoch 8/100\n",
            "\u001b[1m3/3\u001b[0m \u001b[32m━━━━━━━━━━━━━━━━━━━━\u001b[0m\u001b[37m\u001b[0m \u001b[1m0s\u001b[0m 65ms/step - accuracy: 0.7674 - loss: 0.5576 - val_accuracy: 0.8500 - val_loss: 0.4865\n",
            "Epoch 9/100\n",
            "\u001b[1m3/3\u001b[0m \u001b[32m━━━━━━━━━━━━━━━━━━━━\u001b[0m\u001b[37m\u001b[0m \u001b[1m0s\u001b[0m 64ms/step - accuracy: 0.7815 - loss: 0.5398 - val_accuracy: 0.8500 - val_loss: 0.4744\n",
            "Epoch 10/100\n",
            "\u001b[1m3/3\u001b[0m \u001b[32m━━━━━━━━━━━━━━━━━━━━\u001b[0m\u001b[37m\u001b[0m \u001b[1m0s\u001b[0m 76ms/step - accuracy: 0.7840 - loss: 0.5435 - val_accuracy: 0.8500 - val_loss: 0.4625\n",
            "Epoch 11/100\n",
            "\u001b[1m3/3\u001b[0m \u001b[32m━━━━━━━━━━━━━━━━━━━━\u001b[0m\u001b[37m\u001b[0m \u001b[1m0s\u001b[0m 58ms/step - accuracy: 0.8137 - loss: 0.5202 - val_accuracy: 0.8500 - val_loss: 0.4506\n",
            "Epoch 12/100\n",
            "\u001b[1m3/3\u001b[0m \u001b[32m━━━━━━━━━━━━━━━━━━━━\u001b[0m\u001b[37m\u001b[0m \u001b[1m0s\u001b[0m 36ms/step - accuracy: 0.8372 - loss: 0.5044 - val_accuracy: 0.8500 - val_loss: 0.4389\n",
            "Epoch 13/100\n",
            "\u001b[1m3/3\u001b[0m \u001b[32m━━━━━━━━━━━━━━━━━━━━\u001b[0m\u001b[37m\u001b[0m \u001b[1m0s\u001b[0m 40ms/step - accuracy: 0.8279 - loss: 0.5113 - val_accuracy: 0.8500 - val_loss: 0.4278\n",
            "Epoch 14/100\n",
            "\u001b[1m3/3\u001b[0m \u001b[32m━━━━━━━━━━━━━━━━━━━━\u001b[0m\u001b[37m\u001b[0m \u001b[1m0s\u001b[0m 37ms/step - accuracy: 0.8318 - loss: 0.4902 - val_accuracy: 0.8500 - val_loss: 0.4166\n",
            "Epoch 15/100\n",
            "\u001b[1m3/3\u001b[0m \u001b[32m━━━━━━━━━━━━━━━━━━━━\u001b[0m\u001b[37m\u001b[0m \u001b[1m0s\u001b[0m 35ms/step - accuracy: 0.8044 - loss: 0.5026 - val_accuracy: 0.8500 - val_loss: 0.4062\n",
            "Epoch 16/100\n",
            "\u001b[1m3/3\u001b[0m \u001b[32m━━━━━━━━━━━━━━━━━━━━\u001b[0m\u001b[37m\u001b[0m \u001b[1m0s\u001b[0m 36ms/step - accuracy: 0.8552 - loss: 0.4689 - val_accuracy: 0.8500 - val_loss: 0.3956\n",
            "Epoch 17/100\n",
            "\u001b[1m3/3\u001b[0m \u001b[32m━━━━━━━━━━━━━━━━━━━━\u001b[0m\u001b[37m\u001b[0m \u001b[1m0s\u001b[0m 36ms/step - accuracy: 0.8162 - loss: 0.4844 - val_accuracy: 0.9000 - val_loss: 0.3860\n",
            "Epoch 18/100\n",
            "\u001b[1m3/3\u001b[0m \u001b[32m━━━━━━━━━━━━━━━━━━━━\u001b[0m\u001b[37m\u001b[0m \u001b[1m0s\u001b[0m 35ms/step - accuracy: 0.8240 - loss: 0.4743 - val_accuracy: 0.9000 - val_loss: 0.3767\n",
            "Epoch 19/100\n",
            "\u001b[1m3/3\u001b[0m \u001b[32m━━━━━━━━━━━━━━━━━━━━\u001b[0m\u001b[37m\u001b[0m \u001b[1m0s\u001b[0m 35ms/step - accuracy: 0.8279 - loss: 0.4577 - val_accuracy: 0.9000 - val_loss: 0.3676\n",
            "Epoch 20/100\n",
            "\u001b[1m3/3\u001b[0m \u001b[32m━━━━━━━━━━━━━━━━━━━━\u001b[0m\u001b[37m\u001b[0m \u001b[1m0s\u001b[0m 37ms/step - accuracy: 0.8435 - loss: 0.4343 - val_accuracy: 0.9000 - val_loss: 0.3587\n",
            "Epoch 21/100\n",
            "\u001b[1m3/3\u001b[0m \u001b[32m━━━━━━━━━━━━━━━━━━━━\u001b[0m\u001b[37m\u001b[0m \u001b[1m0s\u001b[0m 36ms/step - accuracy: 0.8498 - loss: 0.4437 - val_accuracy: 0.9000 - val_loss: 0.3509\n",
            "Epoch 22/100\n",
            "\u001b[1m3/3\u001b[0m \u001b[32m━━━━━━━━━━━━━━━━━━━━\u001b[0m\u001b[37m\u001b[0m \u001b[1m0s\u001b[0m 35ms/step - accuracy: 0.8498 - loss: 0.4292 - val_accuracy: 0.8500 - val_loss: 0.3433\n",
            "Epoch 23/100\n",
            "\u001b[1m3/3\u001b[0m \u001b[32m━━━━━━━━━━━━━━━━━━━━\u001b[0m\u001b[37m\u001b[0m \u001b[1m0s\u001b[0m 35ms/step - accuracy: 0.8381 - loss: 0.4495 - val_accuracy: 0.8500 - val_loss: 0.3366\n",
            "Epoch 24/100\n",
            "\u001b[1m3/3\u001b[0m \u001b[32m━━━━━━━━━━━━━━━━━━━━\u001b[0m\u001b[37m\u001b[0m \u001b[1m0s\u001b[0m 36ms/step - accuracy: 0.8537 - loss: 0.4181 - val_accuracy: 0.8500 - val_loss: 0.3300\n",
            "Epoch 25/100\n",
            "\u001b[1m3/3\u001b[0m \u001b[32m━━━━━━━━━━━━━━━━━━━━\u001b[0m\u001b[37m\u001b[0m \u001b[1m0s\u001b[0m 36ms/step - accuracy: 0.8576 - loss: 0.4072 - val_accuracy: 0.8500 - val_loss: 0.3241\n",
            "Epoch 26/100\n",
            "\u001b[1m3/3\u001b[0m \u001b[32m━━━━━━━━━━━━━━━━━━━━\u001b[0m\u001b[37m\u001b[0m \u001b[1m0s\u001b[0m 35ms/step - accuracy: 0.8342 - loss: 0.4352 - val_accuracy: 0.8500 - val_loss: 0.3185\n",
            "Epoch 27/100\n",
            "\u001b[1m3/3\u001b[0m \u001b[32m━━━━━━━━━━━━━━━━━━━━\u001b[0m\u001b[37m\u001b[0m \u001b[1m0s\u001b[0m 36ms/step - accuracy: 0.8694 - loss: 0.3923 - val_accuracy: 0.8500 - val_loss: 0.3136\n",
            "Epoch 28/100\n",
            "\u001b[1m3/3\u001b[0m \u001b[32m━━━━━━━━━━━━━━━━━━━━\u001b[0m\u001b[37m\u001b[0m \u001b[1m0s\u001b[0m 36ms/step - accuracy: 0.8459 - loss: 0.4052 - val_accuracy: 0.8500 - val_loss: 0.3088\n",
            "Epoch 29/100\n",
            "\u001b[1m3/3\u001b[0m \u001b[32m━━━━━━━━━━━━━━━━━━━━\u001b[0m\u001b[37m\u001b[0m \u001b[1m0s\u001b[0m 35ms/step - accuracy: 0.8420 - loss: 0.4146 - val_accuracy: 0.8500 - val_loss: 0.3046\n",
            "Epoch 30/100\n",
            "\u001b[1m3/3\u001b[0m \u001b[32m━━━━━━━━━━━━━━━━━━━━\u001b[0m\u001b[37m\u001b[0m \u001b[1m0s\u001b[0m 40ms/step - accuracy: 0.8498 - loss: 0.4013 - val_accuracy: 0.8500 - val_loss: 0.3006\n",
            "Epoch 31/100\n",
            "\u001b[1m3/3\u001b[0m \u001b[32m━━━━━━━━━━━━━━━━━━━━\u001b[0m\u001b[37m\u001b[0m \u001b[1m0s\u001b[0m 37ms/step - accuracy: 0.8576 - loss: 0.4049 - val_accuracy: 0.8500 - val_loss: 0.2974\n",
            "Epoch 32/100\n",
            "\u001b[1m3/3\u001b[0m \u001b[32m━━━━━━━━━━━━━━━━━━━━\u001b[0m\u001b[37m\u001b[0m \u001b[1m0s\u001b[0m 36ms/step - accuracy: 0.8537 - loss: 0.3913 - val_accuracy: 0.8500 - val_loss: 0.2948\n",
            "Epoch 33/100\n",
            "\u001b[1m3/3\u001b[0m \u001b[32m━━━━━━━━━━━━━━━━━━━━\u001b[0m\u001b[37m\u001b[0m \u001b[1m0s\u001b[0m 37ms/step - accuracy: 0.7991 - loss: 0.4571 - val_accuracy: 0.8500 - val_loss: 0.2919\n",
            "Epoch 34/100\n",
            "\u001b[1m3/3\u001b[0m \u001b[32m━━━━━━━━━━━━━━━━━━━━\u001b[0m\u001b[37m\u001b[0m \u001b[1m0s\u001b[0m 37ms/step - accuracy: 0.8537 - loss: 0.3934 - val_accuracy: 0.8500 - val_loss: 0.2891\n",
            "Epoch 35/100\n",
            "\u001b[1m3/3\u001b[0m \u001b[32m━━━━━━━━━━━━━━━━━━━━\u001b[0m\u001b[37m\u001b[0m \u001b[1m0s\u001b[0m 40ms/step - accuracy: 0.8225 - loss: 0.4301 - val_accuracy: 0.8500 - val_loss: 0.2867\n",
            "Epoch 36/100\n",
            "\u001b[1m3/3\u001b[0m \u001b[32m━━━━━━━━━━━━━━━━━━━━\u001b[0m\u001b[37m\u001b[0m \u001b[1m0s\u001b[0m 37ms/step - accuracy: 0.8655 - loss: 0.3646 - val_accuracy: 0.8500 - val_loss: 0.2844\n",
            "Epoch 37/100\n",
            "\u001b[1m3/3\u001b[0m \u001b[32m━━━━━━━━━━━━━━━━━━━━\u001b[0m\u001b[37m\u001b[0m \u001b[1m0s\u001b[0m 37ms/step - accuracy: 0.8616 - loss: 0.3808 - val_accuracy: 0.8500 - val_loss: 0.2823\n",
            "Epoch 38/100\n",
            "\u001b[1m3/3\u001b[0m \u001b[32m━━━━━━━━━━━━━━━━━━━━\u001b[0m\u001b[37m\u001b[0m \u001b[1m0s\u001b[0m 38ms/step - accuracy: 0.8420 - loss: 0.4083 - val_accuracy: 0.8500 - val_loss: 0.2806\n",
            "Epoch 39/100\n",
            "\u001b[1m3/3\u001b[0m \u001b[32m━━━━━━━━━━━━━━━━━━━━\u001b[0m\u001b[37m\u001b[0m \u001b[1m0s\u001b[0m 57ms/step - accuracy: 0.8537 - loss: 0.3827 - val_accuracy: 0.8500 - val_loss: 0.2787\n",
            "Epoch 40/100\n",
            "\u001b[1m3/3\u001b[0m \u001b[32m━━━━━━━━━━━━━━━━━━━━\u001b[0m\u001b[37m\u001b[0m \u001b[1m0s\u001b[0m 37ms/step - accuracy: 0.8537 - loss: 0.3840 - val_accuracy: 0.8500 - val_loss: 0.2771\n",
            "Epoch 41/100\n",
            "\u001b[1m3/3\u001b[0m \u001b[32m━━━━━━━━━━━━━━━━━━━━\u001b[0m\u001b[37m\u001b[0m \u001b[1m0s\u001b[0m 38ms/step - accuracy: 0.8537 - loss: 0.4101 - val_accuracy: 0.8500 - val_loss: 0.2761\n",
            "Epoch 42/100\n",
            "\u001b[1m3/3\u001b[0m \u001b[32m━━━━━━━━━━━━━━━━━━━━\u001b[0m\u001b[37m\u001b[0m \u001b[1m0s\u001b[0m 37ms/step - accuracy: 0.8498 - loss: 0.4047 - val_accuracy: 0.8500 - val_loss: 0.2754\n",
            "Epoch 43/100\n",
            "\u001b[1m3/3\u001b[0m \u001b[32m━━━━━━━━━━━━━━━━━━━━\u001b[0m\u001b[37m\u001b[0m \u001b[1m0s\u001b[0m 39ms/step - accuracy: 0.8733 - loss: 0.3673 - val_accuracy: 0.8500 - val_loss: 0.2751\n",
            "Epoch 44/100\n",
            "\u001b[1m3/3\u001b[0m \u001b[32m━━━━━━━━━━━━━━━━━━━━\u001b[0m\u001b[37m\u001b[0m \u001b[1m0s\u001b[0m 36ms/step - accuracy: 0.8537 - loss: 0.3724 - val_accuracy: 0.8500 - val_loss: 0.2753\n",
            "Epoch 45/100\n",
            "\u001b[1m3/3\u001b[0m \u001b[32m━━━━━━━━━━━━━━━━━━━━\u001b[0m\u001b[37m\u001b[0m \u001b[1m0s\u001b[0m 37ms/step - accuracy: 0.8459 - loss: 0.4078 - val_accuracy: 0.8500 - val_loss: 0.2755\n",
            "Epoch 46/100\n",
            "\u001b[1m3/3\u001b[0m \u001b[32m━━━━━━━━━━━━━━━━━━━━\u001b[0m\u001b[37m\u001b[0m \u001b[1m0s\u001b[0m 44ms/step - accuracy: 0.8459 - loss: 0.3892 - val_accuracy: 0.8500 - val_loss: 0.2752\n",
            "Epoch 47/100\n",
            "\u001b[1m3/3\u001b[0m \u001b[32m━━━━━━━━━━━━━━━━━━━━\u001b[0m\u001b[37m\u001b[0m \u001b[1m0s\u001b[0m 37ms/step - accuracy: 0.8537 - loss: 0.3926 - val_accuracy: 0.8500 - val_loss: 0.2747\n",
            "Epoch 48/100\n",
            "\u001b[1m3/3\u001b[0m \u001b[32m━━━━━━━━━━━━━━━━━━━━\u001b[0m\u001b[37m\u001b[0m \u001b[1m0s\u001b[0m 37ms/step - accuracy: 0.8459 - loss: 0.4190 - val_accuracy: 0.8500 - val_loss: 0.2745\n",
            "Epoch 49/100\n",
            "\u001b[1m3/3\u001b[0m \u001b[32m━━━━━━━━━━━━━━━━━━━━\u001b[0m\u001b[37m\u001b[0m \u001b[1m0s\u001b[0m 38ms/step - accuracy: 0.8655 - loss: 0.3603 - val_accuracy: 0.8500 - val_loss: 0.2741\n",
            "Epoch 50/100\n",
            "\u001b[1m3/3\u001b[0m \u001b[32m━━━━━━━━━━━━━━━━━━━━\u001b[0m\u001b[37m\u001b[0m \u001b[1m0s\u001b[0m 38ms/step - accuracy: 0.8655 - loss: 0.3723 - val_accuracy: 0.8500 - val_loss: 0.2741\n",
            "Epoch 51/100\n",
            "\u001b[1m3/3\u001b[0m \u001b[32m━━━━━━━━━━━━━━━━━━━━\u001b[0m\u001b[37m\u001b[0m \u001b[1m0s\u001b[0m 36ms/step - accuracy: 0.8576 - loss: 0.3651 - val_accuracy: 0.8500 - val_loss: 0.2737\n",
            "Epoch 52/100\n",
            "\u001b[1m3/3\u001b[0m \u001b[32m━━━━━━━━━━━━━━━━━━━━\u001b[0m\u001b[37m\u001b[0m \u001b[1m0s\u001b[0m 36ms/step - accuracy: 0.8420 - loss: 0.4133 - val_accuracy: 0.8500 - val_loss: 0.2737\n",
            "Epoch 53/100\n",
            "\u001b[1m3/3\u001b[0m \u001b[32m━━━━━━━━━━━━━━━━━━━━\u001b[0m\u001b[37m\u001b[0m \u001b[1m0s\u001b[0m 36ms/step - accuracy: 0.8498 - loss: 0.4060 - val_accuracy: 0.8500 - val_loss: 0.2736\n",
            "Epoch 54/100\n",
            "\u001b[1m3/3\u001b[0m \u001b[32m━━━━━━━━━━━━━━━━━━━━\u001b[0m\u001b[37m\u001b[0m \u001b[1m0s\u001b[0m 44ms/step - accuracy: 0.8264 - loss: 0.4142 - val_accuracy: 0.8500 - val_loss: 0.2730\n",
            "Epoch 55/100\n",
            "\u001b[1m3/3\u001b[0m \u001b[32m━━━━━━━━━━━━━━━━━━━━\u001b[0m\u001b[37m\u001b[0m \u001b[1m0s\u001b[0m 36ms/step - accuracy: 0.8576 - loss: 0.3685 - val_accuracy: 0.8500 - val_loss: 0.2733\n",
            "Epoch 56/100\n",
            "\u001b[1m3/3\u001b[0m \u001b[32m━━━━━━━━━━━━━━━━━━━━\u001b[0m\u001b[37m\u001b[0m \u001b[1m0s\u001b[0m 36ms/step - accuracy: 0.8576 - loss: 0.3882 - val_accuracy: 0.8500 - val_loss: 0.2737\n",
            "Epoch 57/100\n",
            "\u001b[1m3/3\u001b[0m \u001b[32m━━━━━━━━━━━━━━━━━━━━\u001b[0m\u001b[37m\u001b[0m \u001b[1m0s\u001b[0m 45ms/step - accuracy: 0.8264 - loss: 0.4235 - val_accuracy: 0.8500 - val_loss: 0.2743\n",
            "Epoch 58/100\n",
            "\u001b[1m3/3\u001b[0m \u001b[32m━━━━━━━━━━━━━━━━━━━━\u001b[0m\u001b[37m\u001b[0m \u001b[1m0s\u001b[0m 39ms/step - accuracy: 0.8616 - loss: 0.3457 - val_accuracy: 0.9000 - val_loss: 0.2744\n",
            "Epoch 59/100\n",
            "\u001b[1m3/3\u001b[0m \u001b[32m━━━━━━━━━━━━━━━━━━━━\u001b[0m\u001b[37m\u001b[0m \u001b[1m0s\u001b[0m 34ms/step - accuracy: 0.8655 - loss: 0.3674 - val_accuracy: 0.9000 - val_loss: 0.2755\n",
            "Epoch 60/100\n",
            "\u001b[1m3/3\u001b[0m \u001b[32m━━━━━━━━━━━━━━━━━━━━\u001b[0m\u001b[37m\u001b[0m \u001b[1m0s\u001b[0m 37ms/step - accuracy: 0.8601 - loss: 0.4047 - val_accuracy: 0.9000 - val_loss: 0.2767\n",
            "Epoch 61/100\n",
            "\u001b[1m3/3\u001b[0m \u001b[32m━━━━━━━━━━━━━━━━━━━━\u001b[0m\u001b[37m\u001b[0m \u001b[1m0s\u001b[0m 35ms/step - accuracy: 0.8444 - loss: 0.4108 - val_accuracy: 0.9000 - val_loss: 0.2773\n",
            "Epoch 62/100\n",
            "\u001b[1m3/3\u001b[0m \u001b[32m━━━━━━━━━━━━━━━━━━━━\u001b[0m\u001b[37m\u001b[0m \u001b[1m0s\u001b[0m 43ms/step - accuracy: 0.8562 - loss: 0.4029 - val_accuracy: 0.9000 - val_loss: 0.2767\n",
            "Epoch 63/100\n",
            "\u001b[1m3/3\u001b[0m \u001b[32m━━━━━━━━━━━━━━━━━━━━\u001b[0m\u001b[37m\u001b[0m \u001b[1m0s\u001b[0m 35ms/step - accuracy: 0.8796 - loss: 0.3584 - val_accuracy: 0.9000 - val_loss: 0.2759\n",
            "Epoch 64/100\n",
            "\u001b[1m3/3\u001b[0m \u001b[32m━━━━━━━━━━━━━━━━━━━━\u001b[0m\u001b[37m\u001b[0m \u001b[1m0s\u001b[0m 34ms/step - accuracy: 0.8796 - loss: 0.3509 - val_accuracy: 0.9000 - val_loss: 0.2751\n",
            "Epoch 65/100\n",
            "\u001b[1m3/3\u001b[0m \u001b[32m━━━━━━━━━━━━━━━━━━━━\u001b[0m\u001b[37m\u001b[0m \u001b[1m0s\u001b[0m 38ms/step - accuracy: 0.8420 - loss: 0.3946 - val_accuracy: 0.9000 - val_loss: 0.2742\n",
            "Epoch 66/100\n",
            "\u001b[1m3/3\u001b[0m \u001b[32m━━━━━━━━━━━━━━━━━━━━\u001b[0m\u001b[37m\u001b[0m \u001b[1m0s\u001b[0m 38ms/step - accuracy: 0.8733 - loss: 0.3433 - val_accuracy: 0.8500 - val_loss: 0.2733\n",
            "Epoch 67/100\n",
            "\u001b[1m3/3\u001b[0m \u001b[32m━━━━━━━━━━━━━━━━━━━━\u001b[0m\u001b[37m\u001b[0m \u001b[1m0s\u001b[0m 37ms/step - accuracy: 0.8498 - loss: 0.3696 - val_accuracy: 0.8500 - val_loss: 0.2728\n",
            "Epoch 68/100\n",
            "\u001b[1m3/3\u001b[0m \u001b[32m━━━━━━━━━━━━━━━━━━━━\u001b[0m\u001b[37m\u001b[0m \u001b[1m0s\u001b[0m 36ms/step - accuracy: 0.8498 - loss: 0.3831 - val_accuracy: 0.8500 - val_loss: 0.2723\n",
            "Epoch 69/100\n",
            "\u001b[1m3/3\u001b[0m \u001b[32m━━━━━━━━━━━━━━━━━━━━\u001b[0m\u001b[37m\u001b[0m \u001b[1m0s\u001b[0m 42ms/step - accuracy: 0.8264 - loss: 0.4110 - val_accuracy: 0.8500 - val_loss: 0.2719\n",
            "Epoch 70/100\n",
            "\u001b[1m3/3\u001b[0m \u001b[32m━━━━━━━━━━━━━━━━━━━━\u001b[0m\u001b[37m\u001b[0m \u001b[1m0s\u001b[0m 45ms/step - accuracy: 0.8655 - loss: 0.3625 - val_accuracy: 0.9000 - val_loss: 0.2717\n",
            "Epoch 71/100\n",
            "\u001b[1m3/3\u001b[0m \u001b[32m━━━━━━━━━━━━━━━━━━━━\u001b[0m\u001b[37m\u001b[0m \u001b[1m0s\u001b[0m 37ms/step - accuracy: 0.8420 - loss: 0.3963 - val_accuracy: 0.9000 - val_loss: 0.2712\n",
            "Epoch 72/100\n",
            "\u001b[1m3/3\u001b[0m \u001b[32m━━━━━━━━━━━━━━━━━━━━\u001b[0m\u001b[37m\u001b[0m \u001b[1m0s\u001b[0m 33ms/step - accuracy: 0.8498 - loss: 0.4132 - val_accuracy: 0.9000 - val_loss: 0.2705\n",
            "Epoch 73/100\n",
            "\u001b[1m3/3\u001b[0m \u001b[32m━━━━━━━━━━━━━━━━━━━━\u001b[0m\u001b[37m\u001b[0m \u001b[1m0s\u001b[0m 38ms/step - accuracy: 0.8147 - loss: 0.4192 - val_accuracy: 0.9000 - val_loss: 0.2700\n",
            "Epoch 74/100\n",
            "\u001b[1m3/3\u001b[0m \u001b[32m━━━━━━━━━━━━━━━━━━━━\u001b[0m\u001b[37m\u001b[0m \u001b[1m0s\u001b[0m 38ms/step - accuracy: 0.8342 - loss: 0.3885 - val_accuracy: 0.9000 - val_loss: 0.2692\n",
            "Epoch 75/100\n",
            "\u001b[1m3/3\u001b[0m \u001b[32m━━━━━━━━━━━━━━━━━━━━\u001b[0m\u001b[37m\u001b[0m \u001b[1m0s\u001b[0m 38ms/step - accuracy: 0.8498 - loss: 0.3777 - val_accuracy: 0.9000 - val_loss: 0.2682\n",
            "Epoch 76/100\n",
            "\u001b[1m3/3\u001b[0m \u001b[32m━━━━━━━━━━━━━━━━━━━━\u001b[0m\u001b[37m\u001b[0m \u001b[1m0s\u001b[0m 38ms/step - accuracy: 0.8616 - loss: 0.3633 - val_accuracy: 0.9000 - val_loss: 0.2678\n",
            "Epoch 77/100\n",
            "\u001b[1m3/3\u001b[0m \u001b[32m━━━━━━━━━━━━━━━━━━━━\u001b[0m\u001b[37m\u001b[0m \u001b[1m0s\u001b[0m 37ms/step - accuracy: 0.8264 - loss: 0.3991 - val_accuracy: 0.9000 - val_loss: 0.2680\n",
            "Epoch 78/100\n",
            "\u001b[1m3/3\u001b[0m \u001b[32m━━━━━━━━━━━━━━━━━━━━\u001b[0m\u001b[37m\u001b[0m \u001b[1m0s\u001b[0m 39ms/step - accuracy: 0.8537 - loss: 0.3889 - val_accuracy: 0.9000 - val_loss: 0.2677\n",
            "Epoch 79/100\n",
            "\u001b[1m3/3\u001b[0m \u001b[32m━━━━━━━━━━━━━━━━━━━━\u001b[0m\u001b[37m\u001b[0m \u001b[1m0s\u001b[0m 36ms/step - accuracy: 0.8264 - loss: 0.4177 - val_accuracy: 0.9000 - val_loss: 0.2679\n",
            "Epoch 80/100\n",
            "\u001b[1m3/3\u001b[0m \u001b[32m━━━━━━━━━━━━━━━━━━━━\u001b[0m\u001b[37m\u001b[0m \u001b[1m0s\u001b[0m 37ms/step - accuracy: 0.8772 - loss: 0.3494 - val_accuracy: 0.9000 - val_loss: 0.2678\n",
            "Epoch 81/100\n",
            "\u001b[1m3/3\u001b[0m \u001b[32m━━━━━━━━━━━━━━━━━━━━\u001b[0m\u001b[37m\u001b[0m \u001b[1m0s\u001b[0m 57ms/step - accuracy: 0.8264 - loss: 0.4107 - val_accuracy: 0.9000 - val_loss: 0.2680\n",
            "Epoch 82/100\n",
            "\u001b[1m3/3\u001b[0m \u001b[32m━━━━━━━━━━━━━━━━━━━━\u001b[0m\u001b[37m\u001b[0m \u001b[1m0s\u001b[0m 59ms/step - accuracy: 0.8576 - loss: 0.3663 - val_accuracy: 0.9000 - val_loss: 0.2683\n",
            "Epoch 83/100\n",
            "\u001b[1m3/3\u001b[0m \u001b[32m━━━━━━━━━━━━━━━━━━━━\u001b[0m\u001b[37m\u001b[0m \u001b[1m0s\u001b[0m 36ms/step - accuracy: 0.8537 - loss: 0.3827 - val_accuracy: 0.9000 - val_loss: 0.2684\n",
            "Epoch 84/100\n",
            "\u001b[1m3/3\u001b[0m \u001b[32m━━━━━━━━━━━━━━━━━━━━\u001b[0m\u001b[37m\u001b[0m \u001b[1m0s\u001b[0m 39ms/step - accuracy: 0.8225 - loss: 0.4185 - val_accuracy: 0.9000 - val_loss: 0.2693\n",
            "Epoch 85/100\n",
            "\u001b[1m3/3\u001b[0m \u001b[32m━━━━━━━━━━━━━━━━━━━━\u001b[0m\u001b[37m\u001b[0m \u001b[1m0s\u001b[0m 56ms/step - accuracy: 0.8459 - loss: 0.3478 - val_accuracy: 0.9000 - val_loss: 0.2703\n",
            "Epoch 86/100\n",
            "\u001b[1m3/3\u001b[0m \u001b[32m━━━━━━━━━━━━━━━━━━━━\u001b[0m\u001b[37m\u001b[0m \u001b[1m0s\u001b[0m 39ms/step - accuracy: 0.8640 - loss: 0.3758 - val_accuracy: 0.9000 - val_loss: 0.2715\n",
            "Epoch 87/100\n",
            "\u001b[1m3/3\u001b[0m \u001b[32m━━━━━━━━━━━━━━━━━━━━\u001b[0m\u001b[37m\u001b[0m \u001b[1m0s\u001b[0m 38ms/step - accuracy: 0.8483 - loss: 0.4043 - val_accuracy: 0.9000 - val_loss: 0.2720\n",
            "Epoch 88/100\n",
            "\u001b[1m3/3\u001b[0m \u001b[32m━━━━━━━━━━━━━━━━━━━━\u001b[0m\u001b[37m\u001b[0m \u001b[1m0s\u001b[0m 71ms/step - accuracy: 0.8523 - loss: 0.3848 - val_accuracy: 0.9000 - val_loss: 0.2722\n",
            "Epoch 89/100\n",
            "\u001b[1m3/3\u001b[0m \u001b[32m━━━━━━━━━━━━━━━━━━━━\u001b[0m\u001b[37m\u001b[0m \u001b[1m0s\u001b[0m 71ms/step - accuracy: 0.8601 - loss: 0.3869 - val_accuracy: 0.9000 - val_loss: 0.2733\n",
            "Epoch 90/100\n",
            "\u001b[1m3/3\u001b[0m \u001b[32m━━━━━━━━━━━━━━━━━━━━\u001b[0m\u001b[37m\u001b[0m \u001b[1m0s\u001b[0m 68ms/step - accuracy: 0.8679 - loss: 0.3723 - val_accuracy: 0.9000 - val_loss: 0.2738\n",
            "Epoch 91/100\n",
            "\u001b[1m3/3\u001b[0m \u001b[32m━━━━━━━━━━━━━━━━━━━━\u001b[0m\u001b[37m\u001b[0m \u001b[1m0s\u001b[0m 74ms/step - accuracy: 0.8796 - loss: 0.3518 - val_accuracy: 0.9000 - val_loss: 0.2739\n",
            "Epoch 92/100\n",
            "\u001b[1m3/3\u001b[0m \u001b[32m━━━━━━━━━━━━━━━━━━━━\u001b[0m\u001b[37m\u001b[0m \u001b[1m0s\u001b[0m 51ms/step - accuracy: 0.8523 - loss: 0.3875 - val_accuracy: 0.9000 - val_loss: 0.2749\n",
            "Epoch 93/100\n",
            "\u001b[1m3/3\u001b[0m \u001b[32m━━━━━━━━━━━━━━━━━━━━\u001b[0m\u001b[37m\u001b[0m \u001b[1m0s\u001b[0m 69ms/step - accuracy: 0.8718 - loss: 0.3579 - val_accuracy: 0.9000 - val_loss: 0.2751\n",
            "Epoch 94/100\n",
            "\u001b[1m3/3\u001b[0m \u001b[32m━━━━━━━━━━━━━━━━━━━━\u001b[0m\u001b[37m\u001b[0m \u001b[1m0s\u001b[0m 51ms/step - accuracy: 0.8444 - loss: 0.4036 - val_accuracy: 0.9000 - val_loss: 0.2749\n",
            "Epoch 95/100\n",
            "\u001b[1m3/3\u001b[0m \u001b[32m━━━━━━━━━━━━━━━━━━━━\u001b[0m\u001b[37m\u001b[0m \u001b[1m0s\u001b[0m 67ms/step - accuracy: 0.8757 - loss: 0.3597 - val_accuracy: 0.9000 - val_loss: 0.2737\n",
            "Epoch 96/100\n",
            "\u001b[1m3/3\u001b[0m \u001b[32m━━━━━━━━━━━━━━━━━━━━\u001b[0m\u001b[37m\u001b[0m \u001b[1m0s\u001b[0m 52ms/step - accuracy: 0.8718 - loss: 0.3486 - val_accuracy: 0.9000 - val_loss: 0.2717\n",
            "Epoch 97/100\n",
            "\u001b[1m3/3\u001b[0m \u001b[32m━━━━━━━━━━━━━━━━━━━━\u001b[0m\u001b[37m\u001b[0m \u001b[1m0s\u001b[0m 66ms/step - accuracy: 0.8640 - loss: 0.3647 - val_accuracy: 0.9000 - val_loss: 0.2718\n",
            "Epoch 98/100\n",
            "\u001b[1m3/3\u001b[0m \u001b[32m━━━━━━━━━━━━━━━━━━━━\u001b[0m\u001b[37m\u001b[0m \u001b[1m0s\u001b[0m 71ms/step - accuracy: 0.8835 - loss: 0.3342 - val_accuracy: 0.9000 - val_loss: 0.2717\n",
            "Epoch 99/100\n",
            "\u001b[1m3/3\u001b[0m \u001b[32m━━━━━━━━━━━━━━━━━━━━\u001b[0m\u001b[37m\u001b[0m \u001b[1m0s\u001b[0m 75ms/step - accuracy: 0.8601 - loss: 0.3726 - val_accuracy: 0.9000 - val_loss: 0.2721\n",
            "Epoch 100/100\n",
            "\u001b[1m3/3\u001b[0m \u001b[32m━━━━━━━━━━━━━━━━━━━━\u001b[0m\u001b[37m\u001b[0m \u001b[1m0s\u001b[0m 73ms/step - accuracy: 0.8562 - loss: 0.3693 - val_accuracy: 0.9000 - val_loss: 0.2720\n"
          ]
        }
      ]
    },
    {
      "cell_type": "code",
      "source": [
        "plot_decision_regions(X.to_numpy(), y.to_numpy().astype('int'), clf = model, legend=2)"
      ],
      "metadata": {
        "colab": {
          "base_uri": "https://localhost:8080/",
          "height": 465
        },
        "id": "xHo52lQR2s5H",
        "outputId": "29377b55-4471-4933-80a0-f4c58af9de47"
      },
      "execution_count": null,
      "outputs": [
        {
          "output_type": "stream",
          "name": "stdout",
          "text": [
            "\u001b[1m9600/9600\u001b[0m \u001b[32m━━━━━━━━━━━━━━━━━━━━\u001b[0m\u001b[37m\u001b[0m \u001b[1m11s\u001b[0m 1ms/step\n"
          ]
        },
        {
          "output_type": "execute_result",
          "data": {
            "text/plain": [
              "<Axes: >"
            ]
          },
          "metadata": {},
          "execution_count": 27
        },
        {
          "output_type": "display_data",
          "data": {
            "text/plain": [
              "<Figure size 640x480 with 1 Axes>"
            ],
            "image/png": "[encoded data removed]"
          },
          "metadata": {}
        }
      ]
    },
    {
      "cell_type": "markdown",
      "source": [
        "### Kernel_initializer (he - ReLU, glorot/xavier - tanh/sigmoid)"
      ],
      "metadata": {
        "id": "qPojD-rK7F8F"
      }
    },
    {
      "cell_type": "code",
      "source": [
        "model = Sequential()\n",
        "\n",
        "model.add(Dense(10, activation='relu', input_dim=2, kernel_initializer='he_uniform'))\n",
        "model.add(Dense(10, activation='relu', kernel_initializer='he_normal'))\n",
        "model.add(Dense(10, activation='relu', kernel_initializer='he_normal'))\n",
        "model.add(Dense(10, activation='relu', kernel_initializer='he_normal'))\n",
        "model.add(Dense(1, activation='sigmoid'))\n",
        "\n",
        "model.summary()"
      ],
      "metadata": {
        "colab": {
          "base_uri": "https://localhost:8080/",
          "height": 289
        },
        "id": "N5wenkRm7JyJ",
        "outputId": "4ded6cd0-50bc-4550-a4b9-1236f82ea217"
      },
      "execution_count": null,
      "outputs": [
        {
          "output_type": "display_data",
          "data": {
            "text/plain": [
              "\u001b[1mModel: \"sequential_2\"\u001b[0m\n"
            ],
            "text/html": [
              "<pre style=\"white-space:pre;overflow-x:auto;line-height:normal;font-family:Menlo,'DejaVu Sans Mono',consolas,'Courier New',monospace\"><span style=\"font-weight: bold\">Model: \"sequential_2\"</span>\n",
              "</pre>\n"
            ]
          },
          "metadata": {}
        },
        {
          "output_type": "display_data",
          "data": {
            "text/plain": [
              "┏━━━━━━━━━━━━━━━━━━━━━━━━━━━━━━━━━┳━━━━━━━━━━━━━━━━━━━━━━━━┳━━━━━━━━━━━━━━━┓\n",
              "┃\u001b[1m \u001b[0m\u001b[1mLayer (type)                   \u001b[0m\u001b[1m \u001b[0m┃\u001b[1m \u001b[0m\u001b[1mOutput Shape          \u001b[0m\u001b[1m \u001b[0m┃\u001b[1m \u001b[0m\u001b[1m      Param #\u001b[0m\u001b[1m \u001b[0m┃\n",
              "┡━━━━━━━━━━━━━━━━━━━━━━━━━━━━━━━━━╇━━━━━━━━━━━━━━━━━━━━━━━━╇━━━━━━━━━━━━━━━┩\n",
              "│ dense_10 (\u001b[38;5;33mDense\u001b[0m)                │ (\u001b[38;5;45mNone\u001b[0m, \u001b[38;5;34m10\u001b[0m)             │            \u001b[38;5;34m30\u001b[0m │\n",
              "├─────────────────────────────────┼────────────────────────┼───────────────┤\n",
              "│ dense_11 (\u001b[38;5;33mDense\u001b[0m)                │ (\u001b[38;5;45mNone\u001b[0m, \u001b[38;5;34m10\u001b[0m)             │           \u001b[38;5;34m110\u001b[0m │\n",
              "├─────────────────────────────────┼────────────────────────┼───────────────┤\n",
              "│ dense_12 (\u001b[38;5;33mDense\u001b[0m)                │ (\u001b[38;5;45mNone\u001b[0m, \u001b[38;5;34m10\u001b[0m)             │           \u001b[38;5;34m110\u001b[0m │\n",
              "├─────────────────────────────────┼────────────────────────┼───────────────┤\n",
              "│ dense_13 (\u001b[38;5;33mDense\u001b[0m)                │ (\u001b[38;5;45mNone\u001b[0m, \u001b[38;5;34m10\u001b[0m)             │           \u001b[38;5;34m110\u001b[0m │\n",
              "├─────────────────────────────────┼────────────────────────┼───────────────┤\n",
              "│ dense_14 (\u001b[38;5;33mDense\u001b[0m)                │ (\u001b[38;5;45mNone\u001b[0m, \u001b[38;5;34m1\u001b[0m)              │            \u001b[38;5;34m11\u001b[0m │\n",
              "└─────────────────────────────────┴────────────────────────┴───────────────┘\n"
            ],
            "text/html": [
              "<pre style=\"white-space:pre;overflow-x:auto;line-height:normal;font-family:Menlo,'DejaVu Sans Mono',consolas,'Courier New',monospace\">┏━━━━━━━━━━━━━━━━━━━━━━━━━━━━━━━━━┳━━━━━━━━━━━━━━━━━━━━━━━━┳━━━━━━━━━━━━━━━┓\n",
              "┃<span style=\"font-weight: bold\"> Layer (type)                    </span>┃<span style=\"font-weight: bold\"> Output Shape           </span>┃<span style=\"font-weight: bold\">       Param # </span>┃\n",
              "┡━━━━━━━━━━━━━━━━━━━━━━━━━━━━━━━━━╇━━━━━━━━━━━━━━━━━━━━━━━━╇━━━━━━━━━━━━━━━┩\n",
              "│ dense_10 (<span style=\"color: #0087ff; text-decoration-color: #0087ff\">Dense</span>)                │ (<span style=\"color: #00d7ff; text-decoration-color: #00d7ff\">None</span>, <span style=\"color: #00af00; text-decoration-color: #00af00\">10</span>)             │            <span style=\"color: #00af00; text-decoration-color: #00af00\">30</span> │\n",
              "├─────────────────────────────────┼────────────────────────┼───────────────┤\n",
              "│ dense_11 (<span style=\"color: #0087ff; text-decoration-color: #0087ff\">Dense</span>)                │ (<span style=\"color: #00d7ff; text-decoration-color: #00d7ff\">None</span>, <span style=\"color: #00af00; text-decoration-color: #00af00\">10</span>)             │           <span style=\"color: #00af00; text-decoration-color: #00af00\">110</span> │\n",
              "├─────────────────────────────────┼────────────────────────┼───────────────┤\n",
              "│ dense_12 (<span style=\"color: #0087ff; text-decoration-color: #0087ff\">Dense</span>)                │ (<span style=\"color: #00d7ff; text-decoration-color: #00d7ff\">None</span>, <span style=\"color: #00af00; text-decoration-color: #00af00\">10</span>)             │           <span style=\"color: #00af00; text-decoration-color: #00af00\">110</span> │\n",
              "├─────────────────────────────────┼────────────────────────┼───────────────┤\n",
              "│ dense_13 (<span style=\"color: #0087ff; text-decoration-color: #0087ff\">Dense</span>)                │ (<span style=\"color: #00d7ff; text-decoration-color: #00d7ff\">None</span>, <span style=\"color: #00af00; text-decoration-color: #00af00\">10</span>)             │           <span style=\"color: #00af00; text-decoration-color: #00af00\">110</span> │\n",
              "├─────────────────────────────────┼────────────────────────┼───────────────┤\n",
              "│ dense_14 (<span style=\"color: #0087ff; text-decoration-color: #0087ff\">Dense</span>)                │ (<span style=\"color: #00d7ff; text-decoration-color: #00d7ff\">None</span>, <span style=\"color: #00af00; text-decoration-color: #00af00\">1</span>)              │            <span style=\"color: #00af00; text-decoration-color: #00af00\">11</span> │\n",
              "└─────────────────────────────────┴────────────────────────┴───────────────┘\n",
              "</pre>\n"
            ]
          },
          "metadata": {}
        },
        {
          "output_type": "display_data",
          "data": {
            "text/plain": [
              "\u001b[1m Total params: \u001b[0m\u001b[38;5;34m371\u001b[0m (1.45 KB)\n"
            ],
            "text/html": [
              "<pre style=\"white-space:pre;overflow-x:auto;line-height:normal;font-family:Menlo,'DejaVu Sans Mono',consolas,'Courier New',monospace\"><span style=\"font-weight: bold\"> Total params: </span><span style=\"color: #00af00; text-decoration-color: #00af00\">371</span> (1.45 KB)\n",
              "</pre>\n"
            ]
          },
          "metadata": {}
        },
        {
          "output_type": "display_data",
          "data": {
            "text/plain": [
              "\u001b[1m Trainable params: \u001b[0m\u001b[38;5;34m371\u001b[0m (1.45 KB)\n"
            ],
            "text/html": [
              "<pre style=\"white-space:pre;overflow-x:auto;line-height:normal;font-family:Menlo,'DejaVu Sans Mono',consolas,'Courier New',monospace\"><span style=\"font-weight: bold\"> Trainable params: </span><span style=\"color: #00af00; text-decoration-color: #00af00\">371</span> (1.45 KB)\n",
              "</pre>\n"
            ]
          },
          "metadata": {}
        },
        {
          "output_type": "display_data",
          "data": {
            "text/plain": [
              "\u001b[1m Non-trainable params: \u001b[0m\u001b[38;5;34m0\u001b[0m (0.00 B)\n"
            ],
            "text/html": [
              "<pre style=\"white-space:pre;overflow-x:auto;line-height:normal;font-family:Menlo,'DejaVu Sans Mono',consolas,'Courier New',monospace\"><span style=\"font-weight: bold\"> Non-trainable params: </span><span style=\"color: #00af00; text-decoration-color: #00af00\">0</span> (0.00 B)\n",
              "</pre>\n"
            ]
          },
          "metadata": {}
        }
      ]
    },
    {
      "cell_type": "code",
      "source": [
        "model.get_weights()"
      ],
      "metadata": {
        "colab": {
          "base_uri": "https://localhost:8080/"
        },
        "id": "TNytZZEi7dRi",
        "outputId": "9628be6c-e0ef-4c9c-bbc9-9650826b7dd9"
      },
      "execution_count": null,
      "outputs": [
        {
          "output_type": "execute_result",
          "data": {
            "text/plain": [
              "[array([[-0.38299215,  0.10440409, -1.6734961 , -0.54850984, -1.3190019 ,\n",
              "          1.6100794 , -0.6317179 , -0.15347528,  0.432171  ,  0.83739865],\n",
              "        [ 0.34308422,  0.13765872,  0.9939784 ,  0.4367    ,  0.36659205,\n",
              "         -0.26094544, -1.6687558 ,  0.54181516, -1.6913394 , -1.3341804 ]],\n",
              "       dtype=float32),\n",
              " array([0., 0., 0., 0., 0., 0., 0., 0., 0., 0.], dtype=float32),\n",
              " array([[-0.33334586,  0.5950535 , -0.2588729 ,  0.79515725, -0.15208016,\n",
              "          0.8158401 ,  0.04574449, -0.06207498,  0.12019934, -0.8539047 ],\n",
              "        [-0.58220536,  0.16943601, -0.10339407, -0.37464944, -0.11558332,\n",
              "         -0.36711985, -0.66371876, -0.46853217, -0.28204057,  0.24158183],\n",
              "        [ 0.8043145 , -0.49333194, -0.09763405,  0.7966756 ,  0.16288652,\n",
              "          0.6240558 ,  0.98635274,  0.11680967, -0.48338872,  0.30526435],\n",
              "        [-0.07943329, -0.11065032,  0.7093855 , -0.35249668, -0.40454483,\n",
              "         -0.36684954, -0.49667683,  0.15958193, -0.48857877,  0.78529924],\n",
              "        [ 0.37570652, -0.06109334, -0.7779372 ,  0.45033884, -0.55485106,\n",
              "         -0.0605522 ,  0.22288005,  1.0068461 , -0.04233778,  0.71082723],\n",
              "        [ 0.45296445,  0.8069598 ,  0.92478925,  0.16379325,  0.14748198,\n",
              "          0.04767865,  0.00258602,  0.47288382,  0.3695294 , -0.14094205],\n",
              "        [-0.7526828 ,  0.34842408, -0.02099315, -0.53728455,  0.23489994,\n",
              "         -0.6147461 , -0.5202403 , -0.3530154 ,  0.42581645,  0.19906367],\n",
              "        [ 0.56150746,  0.31154507,  0.22869118,  0.25452313, -0.2583998 ,\n",
              "          0.1543572 ,  0.55755264,  0.11218759,  0.25914675, -0.05009618],\n",
              "        [-0.21134925,  0.00168285,  0.22889146,  0.08429759,  0.7251802 ,\n",
              "          0.20763707, -0.87419033, -0.24140275, -0.04145706,  0.10691734],\n",
              "        [ 0.20762229,  0.5817499 ,  0.17584725, -0.71428454,  0.60737145,\n",
              "         -0.10254335,  0.576495  ,  0.13669054,  0.5568238 , -0.03771216]],\n",
              "       dtype=float32),\n",
              " array([0., 0., 0., 0., 0., 0., 0., 0., 0., 0.], dtype=float32),\n",
              " array([[ 0.17559715,  0.03561452,  0.54947865,  0.5726269 , -0.52056533,\n",
              "         -0.6663097 , -0.3246163 , -0.17965437, -0.6920582 , -0.0828302 ],\n",
              "        [ 0.2570728 ,  0.33301717, -0.65162164, -0.7692182 , -0.00907378,\n",
              "         -0.22061762,  0.82335794, -0.5829045 , -0.69542444, -0.5175759 ],\n",
              "        [ 0.74487406,  0.7791224 , -0.00939376, -0.5591629 , -0.9112098 ,\n",
              "          0.62181014, -0.0612143 ,  0.13589156, -0.2089432 ,  0.20513076],\n",
              "        [-0.28644982,  0.12785856, -0.49007016, -0.8061394 , -0.4157576 ,\n",
              "          0.79561764, -0.25220114, -1.0159206 ,  0.18108031, -0.93845785],\n",
              "        [-0.46995726, -0.02698328,  0.5128663 , -0.07710975,  0.01170718,\n",
              "         -0.4200221 ,  0.32620996, -0.44043654, -0.12129485,  0.25866693],\n",
              "        [ 0.05520197,  0.169421  ,  0.51438105,  0.03488139, -0.18387529,\n",
              "         -0.54554635, -0.5466469 , -0.15369724,  0.5074678 , -0.67266536],\n",
              "        [-0.22309378,  0.3895614 ,  0.9864397 ,  0.5000506 ,  0.6581354 ,\n",
              "         -0.97015357,  0.5206395 ,  0.3568548 , -0.27451447, -0.8244811 ],\n",
              "        [ 0.11581583,  0.31997618, -0.1581967 , -0.59686935, -0.70289725,\n",
              "         -0.14738305, -0.13845336,  0.47739655,  0.03730046,  0.5166398 ],\n",
              "        [-0.58008665,  0.24429485,  0.94858724, -0.14454296, -0.19228832,\n",
              "         -0.6146549 ,  0.39008948,  0.31266534, -0.04165719, -0.28213304],\n",
              "        [-0.72686213, -0.41780332, -0.10561135,  0.08216892,  0.06290004,\n",
              "          0.5700805 ,  0.06692212, -0.17656727, -0.4995933 , -0.18088016]],\n",
              "       dtype=float32),\n",
              " array([0., 0., 0., 0., 0., 0., 0., 0., 0., 0.], dtype=float32),\n",
              " array([[ 7.6436812e-01,  3.6551431e-01,  6.0175729e-01, -3.3411765e-01,\n",
              "         -4.6220269e-02, -5.9129703e-01, -5.6061018e-01,  5.3182805e-01,\n",
              "          3.0027369e-01, -1.6087843e-02],\n",
              "        [ 1.9238873e-01,  2.4838078e-01,  5.1996148e-01, -1.9133419e-01,\n",
              "          7.5422508e-01, -8.2512951e-01, -4.1306189e-01, -6.2727755e-01,\n",
              "         -2.1291365e-01, -1.7943531e-01],\n",
              "        [ 3.6961353e-01, -3.5833839e-01,  4.9786919e-01, -7.1490026e-01,\n",
              "         -9.2262709e-01,  4.9596468e-01, -3.9501774e-01, -3.8346234e-01,\n",
              "          1.3651465e-01, -6.8274450e-01],\n",
              "        [-1.3172737e-01,  6.5938544e-01, -9.0832047e-02,  6.7667121e-01,\n",
              "          5.1048613e-01, -7.8926152e-01, -2.4839489e-01, -3.1960830e-01,\n",
              "          7.0492893e-01,  4.9079570e-01],\n",
              "        [-2.0123807e-01,  4.1910955e-01,  5.8493090e-01,  1.0808759e-01,\n",
              "          3.0890182e-01, -4.7029969e-01,  8.6220986e-01, -2.0723888e-01,\n",
              "         -1.2576914e-01,  3.1513214e-01],\n",
              "        [-3.0029818e-04, -8.4739637e-01,  2.2394618e-01, -5.6706303e-01,\n",
              "         -6.0947949e-01, -2.1992645e-01,  2.7332762e-01, -2.6300496e-01,\n",
              "         -1.0221320e-01, -5.6922215e-01],\n",
              "        [-3.3471382e-01,  6.8975940e-02,  5.2594376e-01, -3.0351642e-01,\n",
              "          6.3998267e-02,  2.4417548e-01,  7.1109277e-03,  3.8965043e-01,\n",
              "          4.1917208e-01, -4.3200102e-01],\n",
              "        [-1.5884098e-01, -6.2239729e-02,  1.9083509e-01,  1.9941378e-01,\n",
              "         -5.9300476e-01,  1.5213966e-01, -2.1033448e-01,  3.2393816e-01,\n",
              "          7.1685612e-02,  8.3084762e-01],\n",
              "        [ 1.3105047e-01, -4.8954338e-01,  5.4095071e-02, -3.7254855e-01,\n",
              "          1.5540391e-01,  1.8355042e-01, -2.4920410e-01, -3.0806091e-02,\n",
              "          5.6084287e-01, -3.8003135e-01],\n",
              "        [ 2.0301984e-01,  6.0475695e-01, -5.9989333e-01,  8.1785637e-01,\n",
              "         -7.6936072e-01,  3.1462616e-01,  5.3058606e-01,  5.8438057e-01,\n",
              "         -6.7954510e-01, -3.1255367e-01]], dtype=float32),\n",
              " array([0., 0., 0., 0., 0., 0., 0., 0., 0., 0.], dtype=float32),\n",
              " array([[-0.1948036 ],\n",
              "        [ 0.19733232],\n",
              "        [-0.27894294],\n",
              "        [-0.59640354],\n",
              "        [ 0.36312717],\n",
              "        [-0.5064816 ],\n",
              "        [ 0.45011276],\n",
              "        [-0.58964247],\n",
              "        [ 0.41569072],\n",
              "        [-0.20170397]], dtype=float32),\n",
              " array([0.], dtype=float32)]"
            ]
          },
          "metadata": {},
          "execution_count": 30
        }
      ]
    },
    {
      "cell_type": "code",
      "source": [
        "model.compile(loss='binary_crossentropy', optimizer='adam', metrics=['accuracy'])"
      ],
      "metadata": {
        "id": "HN97xt9U8D18"
      },
      "execution_count": null,
      "outputs": []
    },
    {
      "cell_type": "code",
      "source": [
        "history = model.fit(X, y, validation_split=0.2, epochs=100)"
      ],
      "metadata": {
        "colab": {
          "base_uri": "https://localhost:8080/"
        },
        "id": "abgBZV5X8Khq",
        "outputId": "fde7c80f-1d0a-4b72-af12-d2a6000b84b7"
      },
      "execution_count": null,
      "outputs": [
        {
          "output_type": "stream",
          "name": "stdout",
          "text": [
            "Epoch 1/100\n",
            "\u001b[1m3/3\u001b[0m \u001b[32m━━━━━━━━━━━━━━━━━━━━\u001b[0m\u001b[37m\u001b[0m \u001b[1m2s\u001b[0m 128ms/step - accuracy: 0.3735 - loss: 0.6961 - val_accuracy: 0.4000 - val_loss: 0.6300\n",
            "Epoch 2/100\n",
            "\u001b[1m3/3\u001b[0m \u001b[32m━━━━━━━━━━━━━━━━━━━━\u001b[0m\u001b[37m\u001b[0m \u001b[1m0s\u001b[0m 35ms/step - accuracy: 0.3813 - loss: 0.6699 - val_accuracy: 0.5500 - val_loss: 0.6071\n",
            "Epoch 3/100\n",
            "\u001b[1m3/3\u001b[0m \u001b[32m━━━━━━━━━━━━━━━━━━━━\u001b[0m\u001b[37m\u001b[0m \u001b[1m0s\u001b[0m 35ms/step - accuracy: 0.6022 - loss: 0.6466 - val_accuracy: 0.7500 - val_loss: 0.5856\n",
            "Epoch 4/100\n",
            "\u001b[1m3/3\u001b[0m \u001b[32m━━━━━━━━━━━━━━━━━━━━\u001b[0m\u001b[37m\u001b[0m \u001b[1m0s\u001b[0m 35ms/step - accuracy: 0.6801 - loss: 0.6364 - val_accuracy: 0.7500 - val_loss: 0.5662\n",
            "Epoch 5/100\n",
            "\u001b[1m3/3\u001b[0m \u001b[32m━━━━━━━━━━━━━━━━━━━━\u001b[0m\u001b[37m\u001b[0m \u001b[1m0s\u001b[0m 43ms/step - accuracy: 0.7514 - loss: 0.6138 - val_accuracy: 0.8000 - val_loss: 0.5479\n",
            "Epoch 6/100\n",
            "\u001b[1m3/3\u001b[0m \u001b[32m━━━━━━━━━━━━━━━━━━━━\u001b[0m\u001b[37m\u001b[0m \u001b[1m0s\u001b[0m 35ms/step - accuracy: 0.7358 - loss: 0.5983 - val_accuracy: 0.8000 - val_loss: 0.5311\n",
            "Epoch 7/100\n",
            "\u001b[1m3/3\u001b[0m \u001b[32m━━━━━━━━━━━━━━━━━━━━\u001b[0m\u001b[37m\u001b[0m \u001b[1m0s\u001b[0m 37ms/step - accuracy: 0.7436 - loss: 0.5846 - val_accuracy: 0.8000 - val_loss: 0.5154\n",
            "Epoch 8/100\n",
            "\u001b[1m3/3\u001b[0m \u001b[32m━━━━━━━━━━━━━━━━━━━━\u001b[0m\u001b[37m\u001b[0m \u001b[1m0s\u001b[0m 34ms/step - accuracy: 0.7006 - loss: 0.5878 - val_accuracy: 0.8000 - val_loss: 0.5016\n",
            "Epoch 9/100\n",
            "\u001b[1m3/3\u001b[0m \u001b[32m━━━━━━━━━━━━━━━━━━━━\u001b[0m\u001b[37m\u001b[0m \u001b[1m0s\u001b[0m 36ms/step - accuracy: 0.6889 - loss: 0.5891 - val_accuracy: 0.8000 - val_loss: 0.4894\n",
            "Epoch 10/100\n",
            "\u001b[1m3/3\u001b[0m \u001b[32m━━━━━━━━━━━━━━━━━━━━\u001b[0m\u001b[37m\u001b[0m \u001b[1m0s\u001b[0m 37ms/step - accuracy: 0.7006 - loss: 0.5693 - val_accuracy: 0.8000 - val_loss: 0.4777\n",
            "Epoch 11/100\n",
            "\u001b[1m3/3\u001b[0m \u001b[32m━━━━━━━━━━━━━━━━━━━━\u001b[0m\u001b[37m\u001b[0m \u001b[1m0s\u001b[0m 34ms/step - accuracy: 0.7631 - loss: 0.5379 - val_accuracy: 0.8000 - val_loss: 0.4662\n",
            "Epoch 12/100\n",
            "\u001b[1m3/3\u001b[0m \u001b[32m━━━━━━━━━━━━━━━━━━━━\u001b[0m\u001b[37m\u001b[0m \u001b[1m0s\u001b[0m 56ms/step - accuracy: 0.7319 - loss: 0.5438 - val_accuracy: 0.8000 - val_loss: 0.4557\n",
            "Epoch 13/100\n",
            "\u001b[1m3/3\u001b[0m \u001b[32m━━━━━━━━━━━━━━━━━━━━\u001b[0m\u001b[37m\u001b[0m \u001b[1m0s\u001b[0m 35ms/step - accuracy: 0.7201 - loss: 0.5412 - val_accuracy: 0.8000 - val_loss: 0.4459\n",
            "Epoch 14/100\n",
            "\u001b[1m3/3\u001b[0m \u001b[32m━━━━━━━━━━━━━━━━━━━━\u001b[0m\u001b[37m\u001b[0m \u001b[1m0s\u001b[0m 39ms/step - accuracy: 0.7084 - loss: 0.5455 - val_accuracy: 0.8000 - val_loss: 0.4368\n",
            "Epoch 15/100\n",
            "\u001b[1m3/3\u001b[0m \u001b[32m━━━━━━━━━━━━━━━━━━━━\u001b[0m\u001b[37m\u001b[0m \u001b[1m0s\u001b[0m 34ms/step - accuracy: 0.7358 - loss: 0.5287 - val_accuracy: 0.8000 - val_loss: 0.4281\n",
            "Epoch 16/100\n",
            "\u001b[1m3/3\u001b[0m \u001b[32m━━━━━━━━━━━━━━━━━━━━\u001b[0m\u001b[37m\u001b[0m \u001b[1m0s\u001b[0m 35ms/step - accuracy: 0.7397 - loss: 0.5090 - val_accuracy: 0.8500 - val_loss: 0.4199\n",
            "Epoch 17/100\n",
            "\u001b[1m3/3\u001b[0m \u001b[32m━━━━━━━━━━━━━━━━━━━━\u001b[0m\u001b[37m\u001b[0m \u001b[1m0s\u001b[0m 38ms/step - accuracy: 0.7084 - loss: 0.5299 - val_accuracy: 0.8500 - val_loss: 0.4125\n",
            "Epoch 18/100\n",
            "\u001b[1m3/3\u001b[0m \u001b[32m━━━━━━━━━━━━━━━━━━━━\u001b[0m\u001b[37m\u001b[0m \u001b[1m0s\u001b[0m 37ms/step - accuracy: 0.7421 - loss: 0.5053 - val_accuracy: 0.8500 - val_loss: 0.4048\n",
            "Epoch 19/100\n",
            "\u001b[1m3/3\u001b[0m \u001b[32m━━━━━━━━━━━━━━━━━━━━\u001b[0m\u001b[37m\u001b[0m \u001b[1m0s\u001b[0m 37ms/step - accuracy: 0.7577 - loss: 0.4950 - val_accuracy: 0.8500 - val_loss: 0.3977\n",
            "Epoch 20/100\n",
            "\u001b[1m3/3\u001b[0m \u001b[32m━━━━━━━━━━━━━━━━━━━━\u001b[0m\u001b[37m\u001b[0m \u001b[1m0s\u001b[0m 37ms/step - accuracy: 0.7343 - loss: 0.5056 - val_accuracy: 0.8500 - val_loss: 0.3911\n",
            "Epoch 21/100\n",
            "\u001b[1m3/3\u001b[0m \u001b[32m━━━━━━━━━━━━━━━━━━━━\u001b[0m\u001b[37m\u001b[0m \u001b[1m0s\u001b[0m 37ms/step - accuracy: 0.7382 - loss: 0.4865 - val_accuracy: 0.8500 - val_loss: 0.3854\n",
            "Epoch 22/100\n",
            "\u001b[1m3/3\u001b[0m \u001b[32m━━━━━━━━━━━━━━━━━━━━\u001b[0m\u001b[37m\u001b[0m \u001b[1m0s\u001b[0m 40ms/step - accuracy: 0.7382 - loss: 0.4929 - val_accuracy: 0.8500 - val_loss: 0.3800\n",
            "Epoch 23/100\n",
            "\u001b[1m3/3\u001b[0m \u001b[32m━━━━━━━━━━━━━━━━━━━━\u001b[0m\u001b[37m\u001b[0m \u001b[1m0s\u001b[0m 37ms/step - accuracy: 0.7562 - loss: 0.4827 - val_accuracy: 0.8500 - val_loss: 0.3751\n",
            "Epoch 24/100\n",
            "\u001b[1m3/3\u001b[0m \u001b[32m━━━━━━━━━━━━━━━━━━━━\u001b[0m\u001b[37m\u001b[0m \u001b[1m0s\u001b[0m 35ms/step - accuracy: 0.7562 - loss: 0.4842 - val_accuracy: 0.8500 - val_loss: 0.3703\n",
            "Epoch 25/100\n",
            "\u001b[1m3/3\u001b[0m \u001b[32m━━━━━━━━━━━━━━━━━━━━\u001b[0m\u001b[37m\u001b[0m \u001b[1m0s\u001b[0m 39ms/step - accuracy: 0.7445 - loss: 0.4880 - val_accuracy: 0.8500 - val_loss: 0.3657\n",
            "Epoch 26/100\n",
            "\u001b[1m3/3\u001b[0m \u001b[32m━━━━━━━━━━━━━━━━━━━━\u001b[0m\u001b[37m\u001b[0m \u001b[1m0s\u001b[0m 36ms/step - accuracy: 0.7694 - loss: 0.4604 - val_accuracy: 0.8500 - val_loss: 0.3610\n",
            "Epoch 27/100\n",
            "\u001b[1m3/3\u001b[0m \u001b[32m━━━━━━━━━━━━━━━━━━━━\u001b[0m\u001b[37m\u001b[0m \u001b[1m0s\u001b[0m 56ms/step - accuracy: 0.7484 - loss: 0.4705 - val_accuracy: 0.8500 - val_loss: 0.3567\n",
            "Epoch 28/100\n",
            "\u001b[1m3/3\u001b[0m \u001b[32m━━━━━━━━━━━━━━━━━━━━\u001b[0m\u001b[37m\u001b[0m \u001b[1m0s\u001b[0m 56ms/step - accuracy: 0.7289 - loss: 0.4900 - val_accuracy: 0.8500 - val_loss: 0.3526\n",
            "Epoch 29/100\n",
            "\u001b[1m3/3\u001b[0m \u001b[32m━━━━━━━━━━━━━━━━━━━━\u001b[0m\u001b[37m\u001b[0m \u001b[1m0s\u001b[0m 36ms/step - accuracy: 0.7679 - loss: 0.4588 - val_accuracy: 0.8500 - val_loss: 0.3485\n",
            "Epoch 30/100\n",
            "\u001b[1m3/3\u001b[0m \u001b[32m━━━━━━━━━━━━━━━━━━━━\u001b[0m\u001b[37m\u001b[0m \u001b[1m0s\u001b[0m 39ms/step - accuracy: 0.7484 - loss: 0.4658 - val_accuracy: 0.8500 - val_loss: 0.3446\n",
            "Epoch 31/100\n",
            "\u001b[1m3/3\u001b[0m \u001b[32m━━━━━━━━━━━━━━━━━━━━\u001b[0m\u001b[37m\u001b[0m \u001b[1m0s\u001b[0m 38ms/step - accuracy: 0.7797 - loss: 0.4382 - val_accuracy: 0.8500 - val_loss: 0.3409\n",
            "Epoch 32/100\n",
            "\u001b[1m3/3\u001b[0m \u001b[32m━━━━━━━━━━━━━━━━━━━━\u001b[0m\u001b[37m\u001b[0m \u001b[1m0s\u001b[0m 55ms/step - accuracy: 0.7147 - loss: 0.4825 - val_accuracy: 0.8500 - val_loss: 0.3379\n",
            "Epoch 33/100\n",
            "\u001b[1m3/3\u001b[0m \u001b[32m━━━━━━━━━━━━━━━━━━━━\u001b[0m\u001b[37m\u001b[0m \u001b[1m0s\u001b[0m 37ms/step - accuracy: 0.7631 - loss: 0.4320 - val_accuracy: 0.8500 - val_loss: 0.3348\n",
            "Epoch 34/100\n",
            "\u001b[1m3/3\u001b[0m \u001b[32m━━━━━━━━━━━━━━━━━━━━\u001b[0m\u001b[37m\u001b[0m \u001b[1m0s\u001b[0m 36ms/step - accuracy: 0.7460 - loss: 0.4698 - val_accuracy: 0.8500 - val_loss: 0.3325\n",
            "Epoch 35/100\n",
            "\u001b[1m3/3\u001b[0m \u001b[32m━━━━━━━━━━━━━━━━━━━━\u001b[0m\u001b[37m\u001b[0m \u001b[1m0s\u001b[0m 36ms/step - accuracy: 0.7265 - loss: 0.4528 - val_accuracy: 0.8500 - val_loss: 0.3301\n",
            "Epoch 36/100\n",
            "\u001b[1m3/3\u001b[0m \u001b[32m━━━━━━━━━━━━━━━━━━━━\u001b[0m\u001b[37m\u001b[0m \u001b[1m0s\u001b[0m 37ms/step - accuracy: 0.7226 - loss: 0.4669 - val_accuracy: 0.8500 - val_loss: 0.3279\n",
            "Epoch 37/100\n",
            "\u001b[1m3/3\u001b[0m \u001b[32m━━━━━━━━━━━━━━━━━━━━\u001b[0m\u001b[37m\u001b[0m \u001b[1m0s\u001b[0m 36ms/step - accuracy: 0.7240 - loss: 0.4541 - val_accuracy: 0.8500 - val_loss: 0.3252\n",
            "Epoch 38/100\n",
            "\u001b[1m3/3\u001b[0m \u001b[32m━━━━━━━━━━━━━━━━━━━━\u001b[0m\u001b[37m\u001b[0m \u001b[1m0s\u001b[0m 36ms/step - accuracy: 0.7279 - loss: 0.4461 - val_accuracy: 0.8500 - val_loss: 0.3227\n",
            "Epoch 39/100\n",
            "\u001b[1m3/3\u001b[0m \u001b[32m━━━━━━━━━━━━━━━━━━━━\u001b[0m\u001b[37m\u001b[0m \u001b[1m0s\u001b[0m 40ms/step - accuracy: 0.7240 - loss: 0.4386 - val_accuracy: 0.8500 - val_loss: 0.3201\n",
            "Epoch 40/100\n",
            "\u001b[1m3/3\u001b[0m \u001b[32m━━━━━━━━━━━━━━━━━━━━\u001b[0m\u001b[37m\u001b[0m \u001b[1m0s\u001b[0m 35ms/step - accuracy: 0.7162 - loss: 0.4456 - val_accuracy: 0.8500 - val_loss: 0.3172\n",
            "Epoch 41/100\n",
            "\u001b[1m3/3\u001b[0m \u001b[32m━━━━━━━━━━━━━━━━━━━━\u001b[0m\u001b[37m\u001b[0m \u001b[1m0s\u001b[0m 36ms/step - accuracy: 0.7553 - loss: 0.4313 - val_accuracy: 0.8500 - val_loss: 0.3144\n",
            "Epoch 42/100\n",
            "\u001b[1m3/3\u001b[0m \u001b[32m━━━━━━━━━━━━━━━━━━━━\u001b[0m\u001b[37m\u001b[0m \u001b[1m0s\u001b[0m 35ms/step - accuracy: 0.6982 - loss: 0.4502 - val_accuracy: 0.8500 - val_loss: 0.3118\n",
            "Epoch 43/100\n",
            "\u001b[1m3/3\u001b[0m \u001b[32m━━━━━━━━━━━━━━━━━━━━\u001b[0m\u001b[37m\u001b[0m \u001b[1m0s\u001b[0m 37ms/step - accuracy: 0.7733 - loss: 0.3990 - val_accuracy: 0.8500 - val_loss: 0.3091\n",
            "Epoch 44/100\n",
            "\u001b[1m3/3\u001b[0m \u001b[32m━━━━━━━━━━━━━━━━━━━━\u001b[0m\u001b[37m\u001b[0m \u001b[1m0s\u001b[0m 37ms/step - accuracy: 0.7226 - loss: 0.4419 - val_accuracy: 0.8500 - val_loss: 0.3068\n",
            "Epoch 45/100\n",
            "\u001b[1m3/3\u001b[0m \u001b[32m━━━━━━━━━━━━━━━━━━━━\u001b[0m\u001b[37m\u001b[0m \u001b[1m0s\u001b[0m 40ms/step - accuracy: 0.7133 - loss: 0.4397 - val_accuracy: 0.8500 - val_loss: 0.3046\n",
            "Epoch 46/100\n",
            "\u001b[1m3/3\u001b[0m \u001b[32m━━━━━━━━━━━━━━━━━━━━\u001b[0m\u001b[37m\u001b[0m \u001b[1m0s\u001b[0m 35ms/step - accuracy: 0.7640 - loss: 0.4087 - val_accuracy: 0.8500 - val_loss: 0.3021\n",
            "Epoch 47/100\n",
            "\u001b[1m3/3\u001b[0m \u001b[32m━━━━━━━━━━━━━━━━━━━━\u001b[0m\u001b[37m\u001b[0m \u001b[1m0s\u001b[0m 39ms/step - accuracy: 0.7743 - loss: 0.4242 - val_accuracy: 0.8500 - val_loss: 0.2999\n",
            "Epoch 48/100\n",
            "\u001b[1m3/3\u001b[0m \u001b[32m━━━━━━━━━━━━━━━━━━━━\u001b[0m\u001b[37m\u001b[0m \u001b[1m0s\u001b[0m 34ms/step - accuracy: 0.7587 - loss: 0.4293 - val_accuracy: 0.8500 - val_loss: 0.2979\n",
            "Epoch 49/100\n",
            "\u001b[1m3/3\u001b[0m \u001b[32m━━━━━━━━━━━━━━━━━━━━\u001b[0m\u001b[37m\u001b[0m \u001b[1m0s\u001b[0m 36ms/step - accuracy: 0.7884 - loss: 0.4033 - val_accuracy: 0.8500 - val_loss: 0.2957\n",
            "Epoch 50/100\n",
            "\u001b[1m3/3\u001b[0m \u001b[32m━━━━━━━━━━━━━━━━━━━━\u001b[0m\u001b[37m\u001b[0m \u001b[1m0s\u001b[0m 35ms/step - accuracy: 0.7767 - loss: 0.4220 - val_accuracy: 0.8500 - val_loss: 0.2937\n",
            "Epoch 51/100\n",
            "\u001b[1m3/3\u001b[0m \u001b[32m━━━━━━━━━━━━━━━━━━━━\u001b[0m\u001b[37m\u001b[0m \u001b[1m0s\u001b[0m 36ms/step - accuracy: 0.7806 - loss: 0.4182 - val_accuracy: 0.8500 - val_loss: 0.2918\n",
            "Epoch 52/100\n",
            "\u001b[1m3/3\u001b[0m \u001b[32m━━━━━━━━━━━━━━━━━━━━\u001b[0m\u001b[37m\u001b[0m \u001b[1m0s\u001b[0m 68ms/step - accuracy: 0.7767 - loss: 0.4080 - val_accuracy: 0.8500 - val_loss: 0.2902\n",
            "Epoch 53/100\n",
            "\u001b[1m3/3\u001b[0m \u001b[32m━━━━━━━━━━━━━━━━━━━━\u001b[0m\u001b[37m\u001b[0m \u001b[1m0s\u001b[0m 61ms/step - accuracy: 0.7611 - loss: 0.4415 - val_accuracy: 0.8500 - val_loss: 0.2888\n",
            "Epoch 54/100\n",
            "\u001b[1m3/3\u001b[0m \u001b[32m━━━━━━━━━━━━━━━━━━━━\u001b[0m\u001b[37m\u001b[0m \u001b[1m0s\u001b[0m 51ms/step - accuracy: 0.7650 - loss: 0.4267 - val_accuracy: 0.8500 - val_loss: 0.2870\n",
            "Epoch 55/100\n",
            "\u001b[1m3/3\u001b[0m \u001b[32m━━━━━━━━━━━━━━━━━━━━\u001b[0m\u001b[37m\u001b[0m \u001b[1m0s\u001b[0m 48ms/step - accuracy: 0.7752 - loss: 0.4227 - val_accuracy: 0.8500 - val_loss: 0.2851\n",
            "Epoch 56/100\n",
            "\u001b[1m3/3\u001b[0m \u001b[32m━━━━━━━━━━━━━━━━━━━━\u001b[0m\u001b[37m\u001b[0m \u001b[1m0s\u001b[0m 48ms/step - accuracy: 0.7815 - loss: 0.4315 - val_accuracy: 0.8500 - val_loss: 0.2833\n",
            "Epoch 57/100\n",
            "\u001b[1m3/3\u001b[0m \u001b[32m━━━━━━━━━━━━━━━━━━━━\u001b[0m\u001b[37m\u001b[0m \u001b[1m0s\u001b[0m 64ms/step - accuracy: 0.8035 - loss: 0.4017 - val_accuracy: 0.8500 - val_loss: 0.2803\n",
            "Epoch 58/100\n",
            "\u001b[1m3/3\u001b[0m \u001b[32m━━━━━━━━━━━━━━━━━━━━\u001b[0m\u001b[37m\u001b[0m \u001b[1m0s\u001b[0m 75ms/step - accuracy: 0.8474 - loss: 0.3666 - val_accuracy: 0.8500 - val_loss: 0.2779\n",
            "Epoch 59/100\n",
            "\u001b[1m3/3\u001b[0m \u001b[32m━━━━━━━━━━━━━━━━━━━━\u001b[0m\u001b[37m\u001b[0m \u001b[1m0s\u001b[0m 67ms/step - accuracy: 0.8630 - loss: 0.3609 - val_accuracy: 0.8500 - val_loss: 0.2761\n",
            "Epoch 60/100\n",
            "\u001b[1m3/3\u001b[0m \u001b[32m━━━━━━━━━━━━━━━━━━━━\u001b[0m\u001b[37m\u001b[0m \u001b[1m0s\u001b[0m 66ms/step - accuracy: 0.8435 - loss: 0.3796 - val_accuracy: 0.9000 - val_loss: 0.2745\n",
            "Epoch 61/100\n",
            "\u001b[1m3/3\u001b[0m \u001b[32m━━━━━━━━━━━━━━━━━━━━\u001b[0m\u001b[37m\u001b[0m \u001b[1m0s\u001b[0m 65ms/step - accuracy: 0.8318 - loss: 0.4061 - val_accuracy: 0.9500 - val_loss: 0.2726\n",
            "Epoch 62/100\n",
            "\u001b[1m3/3\u001b[0m \u001b[32m━━━━━━━━━━━━━━━━━━━━\u001b[0m\u001b[37m\u001b[0m \u001b[1m0s\u001b[0m 74ms/step - accuracy: 0.8357 - loss: 0.3812 - val_accuracy: 0.9500 - val_loss: 0.2700\n",
            "Epoch 63/100\n",
            "\u001b[1m3/3\u001b[0m \u001b[32m━━━━━━━━━━━━━━━━━━━━\u001b[0m\u001b[37m\u001b[0m \u001b[1m0s\u001b[0m 72ms/step - accuracy: 0.8498 - loss: 0.3795 - val_accuracy: 0.9500 - val_loss: 0.2670\n",
            "Epoch 64/100\n",
            "\u001b[1m3/3\u001b[0m \u001b[32m━━━━━━━━━━━━━━━━━━━━\u001b[0m\u001b[37m\u001b[0m \u001b[1m0s\u001b[0m 72ms/step - accuracy: 0.8420 - loss: 0.3702 - val_accuracy: 0.9500 - val_loss: 0.2638\n",
            "Epoch 65/100\n",
            "\u001b[1m3/3\u001b[0m \u001b[32m━━━━━━━━━━━━━━━━━━━━\u001b[0m\u001b[37m\u001b[0m \u001b[1m0s\u001b[0m 38ms/step - accuracy: 0.9069 - loss: 0.3227 - val_accuracy: 0.9500 - val_loss: 0.2602\n",
            "Epoch 66/100\n",
            "\u001b[1m3/3\u001b[0m \u001b[32m━━━━━━━━━━━━━━━━━━━━\u001b[0m\u001b[37m\u001b[0m \u001b[1m0s\u001b[0m 35ms/step - accuracy: 0.8523 - loss: 0.3796 - val_accuracy: 0.9500 - val_loss: 0.2572\n",
            "Epoch 67/100\n",
            "\u001b[1m3/3\u001b[0m \u001b[32m━━━━━━━━━━━━━━━━━━━━\u001b[0m\u001b[37m\u001b[0m \u001b[1m0s\u001b[0m 37ms/step - accuracy: 0.8874 - loss: 0.3355 - val_accuracy: 0.9500 - val_loss: 0.2536\n",
            "Epoch 68/100\n",
            "\u001b[1m3/3\u001b[0m \u001b[32m━━━━━━━━━━━━━━━━━━━━\u001b[0m\u001b[37m\u001b[0m \u001b[1m0s\u001b[0m 34ms/step - accuracy: 0.8483 - loss: 0.3681 - val_accuracy: 0.9500 - val_loss: 0.2502\n",
            "Epoch 69/100\n",
            "\u001b[1m3/3\u001b[0m \u001b[32m━━━━━━━━━━━━━━━━━━━━\u001b[0m\u001b[37m\u001b[0m \u001b[1m0s\u001b[0m 37ms/step - accuracy: 0.8601 - loss: 0.3734 - val_accuracy: 0.9500 - val_loss: 0.2465\n",
            "Epoch 70/100\n",
            "\u001b[1m3/3\u001b[0m \u001b[32m━━━━━━━━━━━━━━━━━━━━\u001b[0m\u001b[37m\u001b[0m \u001b[1m0s\u001b[0m 35ms/step - accuracy: 0.8640 - loss: 0.3427 - val_accuracy: 0.9500 - val_loss: 0.2431\n",
            "Epoch 71/100\n",
            "\u001b[1m3/3\u001b[0m \u001b[32m━━━━━━━━━━━━━━━━━━━━\u001b[0m\u001b[37m\u001b[0m \u001b[1m0s\u001b[0m 35ms/step - accuracy: 0.8796 - loss: 0.3259 - val_accuracy: 0.9500 - val_loss: 0.2405\n",
            "Epoch 72/100\n",
            "\u001b[1m3/3\u001b[0m \u001b[32m━━━━━━━━━━━━━━━━━━━━\u001b[0m\u001b[37m\u001b[0m \u001b[1m0s\u001b[0m 35ms/step - accuracy: 0.8781 - loss: 0.3443 - val_accuracy: 0.9500 - val_loss: 0.2387\n",
            "Epoch 73/100\n",
            "\u001b[1m3/3\u001b[0m \u001b[32m━━━━━━━━━━━━━━━━━━━━\u001b[0m\u001b[37m\u001b[0m \u001b[1m0s\u001b[0m 55ms/step - accuracy: 0.8742 - loss: 0.3554 - val_accuracy: 0.9500 - val_loss: 0.2375\n",
            "Epoch 74/100\n",
            "\u001b[1m3/3\u001b[0m \u001b[32m━━━━━━━━━━━━━━━━━━━━\u001b[0m\u001b[37m\u001b[0m \u001b[1m0s\u001b[0m 56ms/step - accuracy: 0.8898 - loss: 0.3399 - val_accuracy: 0.9500 - val_loss: 0.2363\n",
            "Epoch 75/100\n",
            "\u001b[1m3/3\u001b[0m \u001b[32m━━━━━━━━━━━━━━━━━━━━\u001b[0m\u001b[37m\u001b[0m \u001b[1m0s\u001b[0m 37ms/step - accuracy: 0.8664 - loss: 0.3459 - val_accuracy: 0.9500 - val_loss: 0.2348\n",
            "Epoch 76/100\n",
            "\u001b[1m3/3\u001b[0m \u001b[32m━━━━━━━━━━━━━━━━━━━━\u001b[0m\u001b[37m\u001b[0m \u001b[1m0s\u001b[0m 36ms/step - accuracy: 0.8859 - loss: 0.3337 - val_accuracy: 0.9500 - val_loss: 0.2330\n",
            "Epoch 77/100\n",
            "\u001b[1m3/3\u001b[0m \u001b[32m━━━━━━━━━━━━━━━━━━━━\u001b[0m\u001b[37m\u001b[0m \u001b[1m0s\u001b[0m 62ms/step - accuracy: 0.8391 - loss: 0.3770 - val_accuracy: 0.9500 - val_loss: 0.2317\n",
            "Epoch 78/100\n",
            "\u001b[1m3/3\u001b[0m \u001b[32m━━━━━━━━━━━━━━━━━━━━\u001b[0m\u001b[37m\u001b[0m \u001b[1m0s\u001b[0m 34ms/step - accuracy: 0.8859 - loss: 0.3334 - val_accuracy: 0.9500 - val_loss: 0.2298\n",
            "Epoch 79/100\n",
            "\u001b[1m3/3\u001b[0m \u001b[32m━━━━━━━━━━━━━━━━━━━━\u001b[0m\u001b[37m\u001b[0m \u001b[1m0s\u001b[0m 36ms/step - accuracy: 0.8820 - loss: 0.3264 - val_accuracy: 0.9500 - val_loss: 0.2286\n",
            "Epoch 80/100\n",
            "\u001b[1m3/3\u001b[0m \u001b[32m━━━━━━━━━━━━━━━━━━━━\u001b[0m\u001b[37m\u001b[0m \u001b[1m0s\u001b[0m 37ms/step - accuracy: 0.8625 - loss: 0.3388 - val_accuracy: 0.9500 - val_loss: 0.2273\n",
            "Epoch 81/100\n",
            "\u001b[1m3/3\u001b[0m \u001b[32m━━━━━━━━━━━━━━━━━━━━\u001b[0m\u001b[37m\u001b[0m \u001b[1m0s\u001b[0m 35ms/step - accuracy: 0.8703 - loss: 0.3313 - val_accuracy: 0.9500 - val_loss: 0.2245\n",
            "Epoch 82/100\n",
            "\u001b[1m3/3\u001b[0m \u001b[32m━━━━━━━━━━━━━━━━━━━━\u001b[0m\u001b[37m\u001b[0m \u001b[1m0s\u001b[0m 35ms/step - accuracy: 0.8742 - loss: 0.3221 - val_accuracy: 0.9500 - val_loss: 0.2213\n",
            "Epoch 83/100\n",
            "\u001b[1m3/3\u001b[0m \u001b[32m━━━━━━━━━━━━━━━━━━━━\u001b[0m\u001b[37m\u001b[0m \u001b[1m0s\u001b[0m 35ms/step - accuracy: 0.8898 - loss: 0.3058 - val_accuracy: 0.9500 - val_loss: 0.2182\n",
            "Epoch 84/100\n",
            "\u001b[1m3/3\u001b[0m \u001b[32m━━━━━━━━━━━━━━━━━━━━\u001b[0m\u001b[37m\u001b[0m \u001b[1m0s\u001b[0m 35ms/step - accuracy: 0.8586 - loss: 0.3366 - val_accuracy: 0.9500 - val_loss: 0.2152\n",
            "Epoch 85/100\n",
            "\u001b[1m3/3\u001b[0m \u001b[32m━━━━━━━━━━━━━━━━━━━━\u001b[0m\u001b[37m\u001b[0m \u001b[1m0s\u001b[0m 37ms/step - accuracy: 0.8664 - loss: 0.3308 - val_accuracy: 0.9500 - val_loss: 0.2129\n",
            "Epoch 86/100\n",
            "\u001b[1m3/3\u001b[0m \u001b[32m━━━━━━━━━━━━━━━━━━━━\u001b[0m\u001b[37m\u001b[0m \u001b[1m0s\u001b[0m 40ms/step - accuracy: 0.8820 - loss: 0.3150 - val_accuracy: 0.9500 - val_loss: 0.2108\n",
            "Epoch 87/100\n",
            "\u001b[1m3/3\u001b[0m \u001b[32m━━━━━━━━━━━━━━━━━━━━\u001b[0m\u001b[37m\u001b[0m \u001b[1m0s\u001b[0m 35ms/step - accuracy: 0.8703 - loss: 0.3359 - val_accuracy: 0.9500 - val_loss: 0.2092\n",
            "Epoch 88/100\n",
            "\u001b[1m3/3\u001b[0m \u001b[32m━━━━━━━━━━━━━━━━━━━━\u001b[0m\u001b[37m\u001b[0m \u001b[1m0s\u001b[0m 35ms/step - accuracy: 0.8625 - loss: 0.3173 - val_accuracy: 0.9500 - val_loss: 0.2080\n",
            "Epoch 89/100\n",
            "\u001b[1m3/3\u001b[0m \u001b[32m━━━━━━━━━━━━━━━━━━━━\u001b[0m\u001b[37m\u001b[0m \u001b[1m0s\u001b[0m 36ms/step - accuracy: 0.8586 - loss: 0.3401 - val_accuracy: 0.9500 - val_loss: 0.2071\n",
            "Epoch 90/100\n",
            "\u001b[1m3/3\u001b[0m \u001b[32m━━━━━━━━━━━━━━━━━━━━\u001b[0m\u001b[37m\u001b[0m \u001b[1m0s\u001b[0m 35ms/step - accuracy: 0.8742 - loss: 0.3219 - val_accuracy: 0.9500 - val_loss: 0.2051\n",
            "Epoch 91/100\n",
            "\u001b[1m3/3\u001b[0m \u001b[32m━━━━━━━━━━━━━━━━━━━━\u001b[0m\u001b[37m\u001b[0m \u001b[1m0s\u001b[0m 36ms/step - accuracy: 0.8547 - loss: 0.3455 - val_accuracy: 0.9500 - val_loss: 0.2032\n",
            "Epoch 92/100\n",
            "\u001b[1m3/3\u001b[0m \u001b[32m━━━━━━━━━━━━━━━━━━━━\u001b[0m\u001b[37m\u001b[0m \u001b[1m0s\u001b[0m 34ms/step - accuracy: 0.8859 - loss: 0.2968 - val_accuracy: 0.9500 - val_loss: 0.2005\n",
            "Epoch 93/100\n",
            "\u001b[1m3/3\u001b[0m \u001b[32m━━━━━━━━━━━━━━━━━━━━\u001b[0m\u001b[37m\u001b[0m \u001b[1m0s\u001b[0m 35ms/step - accuracy: 0.8976 - loss: 0.2871 - val_accuracy: 0.9500 - val_loss: 0.1992\n",
            "Epoch 94/100\n",
            "\u001b[1m3/3\u001b[0m \u001b[32m━━━━━━━━━━━━━━━━━━━━\u001b[0m\u001b[37m\u001b[0m \u001b[1m0s\u001b[0m 43ms/step - accuracy: 0.8884 - loss: 0.3054 - val_accuracy: 0.9000 - val_loss: 0.1978\n",
            "Epoch 95/100\n",
            "\u001b[1m3/3\u001b[0m \u001b[32m━━━━━━━━━━━━━━━━━━━━\u001b[0m\u001b[37m\u001b[0m \u001b[1m0s\u001b[0m 34ms/step - accuracy: 0.8805 - loss: 0.3066 - val_accuracy: 0.9000 - val_loss: 0.1951\n",
            "Epoch 96/100\n",
            "\u001b[1m3/3\u001b[0m \u001b[32m━━━━━━━━━━━━━━━━━━━━\u001b[0m\u001b[37m\u001b[0m \u001b[1m0s\u001b[0m 36ms/step - accuracy: 0.8844 - loss: 0.3038 - val_accuracy: 0.9000 - val_loss: 0.1917\n",
            "Epoch 97/100\n",
            "\u001b[1m3/3\u001b[0m \u001b[32m━━━━━━━━━━━━━━━━━━━━\u001b[0m\u001b[37m\u001b[0m \u001b[1m0s\u001b[0m 35ms/step - accuracy: 0.8727 - loss: 0.3296 - val_accuracy: 0.9500 - val_loss: 0.1882\n",
            "Epoch 98/100\n",
            "\u001b[1m3/3\u001b[0m \u001b[32m━━━━━━━━━━━━━━━━━━━━\u001b[0m\u001b[37m\u001b[0m \u001b[1m0s\u001b[0m 37ms/step - accuracy: 0.8742 - loss: 0.2956 - val_accuracy: 0.9500 - val_loss: 0.1848\n",
            "Epoch 99/100\n",
            "\u001b[1m3/3\u001b[0m \u001b[32m━━━━━━━━━━━━━━━━━━━━\u001b[0m\u001b[37m\u001b[0m \u001b[1m0s\u001b[0m 34ms/step - accuracy: 0.8625 - loss: 0.3015 - val_accuracy: 0.9500 - val_loss: 0.1826\n",
            "Epoch 100/100\n",
            "\u001b[1m3/3\u001b[0m \u001b[32m━━━━━━━━━━━━━━━━━━━━\u001b[0m\u001b[37m\u001b[0m \u001b[1m0s\u001b[0m 36ms/step - accuracy: 0.8625 - loss: 0.3076 - val_accuracy: 0.9500 - val_loss: 0.1817\n"
          ]
        }
      ]
    },
    {
      "cell_type": "code",
      "source": [
        "plot_decision_regions(X.to_numpy(), y.to_numpy().astype('int'), clf = model, legend=2)"
      ],
      "metadata": {
        "colab": {
          "base_uri": "https://localhost:8080/",
          "height": 465
        },
        "id": "xbErDCGx8L61",
        "outputId": "2b652e08-e7e1-4321-d6fd-04cec1082853"
      },
      "execution_count": null,
      "outputs": [
        {
          "output_type": "stream",
          "name": "stdout",
          "text": [
            "\u001b[1m9600/9600\u001b[0m \u001b[32m━━━━━━━━━━━━━━━━━━━━\u001b[0m\u001b[37m\u001b[0m \u001b[1m11s\u001b[0m 1ms/step\n"
          ]
        },
        {
          "output_type": "execute_result",
          "data": {
            "text/plain": [
              "<Axes: >"
            ]
          },
          "metadata": {},
          "execution_count": 33
        },
        {
          "output_type": "display_data",
          "data": {
            "text/plain": [
              "<Figure size 640x480 with 1 Axes>"
            ],
            "image/png": "[encoded data removed]"
          },
          "metadata": {}
        }
      ]
    },
    {
      "cell_type": "code",
      "source": [],
      "metadata": {
        "id": "W-IvDprT8Uk4"
      },
      "execution_count": null,
      "outputs": []
    }
  ]
}